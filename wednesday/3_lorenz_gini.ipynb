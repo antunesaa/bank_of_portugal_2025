{
  "cells": [
    {
      "cell_type": "markdown",
      "id": "d39a77a6",
      "metadata": {
        "id": "d39a77a6"
      },
      "source": [
        "# Programming Exercise: Lorenz Curves and Gini Coefficients\n",
        "\n",
        "**Prepared for the Bank of Portugal Computational Economics Course (Oct 2025)**\n",
        "\n",
        "**Author:** [John Stachurski](https://johnstachurski.net)\n",
        "\n",
        "This notebook contains some programming exercises related to the Lorenz curve\n",
        "and the Gini coefficient, which are often used to study inequality.\n",
        "\n",
        "Your task will be to compute these curves and values, replicating functionality\n",
        "that already exists in `quantecon`.\n",
        "\n",
        "Uncomment the following if necessary"
      ]
    },
    {
      "cell_type": "code",
      "execution_count": 6,
      "id": "ee8a300d",
      "metadata": {
        "execution": {
          "iopub.execute_input": "2025-10-08T04:46:04.678276Z",
          "iopub.status.busy": "2025-10-08T04:46:04.677924Z",
          "iopub.status.idle": "2025-10-08T04:46:04.682767Z",
          "shell.execute_reply": "2025-10-08T04:46:04.681876Z"
        },
        "id": "ee8a300d",
        "outputId": "4496b5b9-aead-4789-dc5a-1d9a7639712e",
        "colab": {
          "base_uri": "https://localhost:8080/"
        }
      },
      "outputs": [
        {
          "output_type": "stream",
          "name": "stdout",
          "text": [
            "Collecting quantecon\n",
            "  Downloading quantecon-0.10.1-py3-none-any.whl.metadata (5.3 kB)\n",
            "Requirement already satisfied: numba>=0.49.0 in /usr/local/lib/python3.12/dist-packages (from quantecon) (0.60.0)\n",
            "Requirement already satisfied: numpy>=1.17.0 in /usr/local/lib/python3.12/dist-packages (from quantecon) (2.0.2)\n",
            "Requirement already satisfied: requests in /usr/local/lib/python3.12/dist-packages (from quantecon) (2.32.4)\n",
            "Requirement already satisfied: scipy>=1.5.0 in /usr/local/lib/python3.12/dist-packages (from quantecon) (1.16.2)\n",
            "Requirement already satisfied: sympy in /usr/local/lib/python3.12/dist-packages (from quantecon) (1.13.3)\n",
            "Requirement already satisfied: llvmlite<0.44,>=0.43.0dev0 in /usr/local/lib/python3.12/dist-packages (from numba>=0.49.0->quantecon) (0.43.0)\n",
            "Requirement already satisfied: charset_normalizer<4,>=2 in /usr/local/lib/python3.12/dist-packages (from requests->quantecon) (3.4.3)\n",
            "Requirement already satisfied: idna<4,>=2.5 in /usr/local/lib/python3.12/dist-packages (from requests->quantecon) (3.10)\n",
            "Requirement already satisfied: urllib3<3,>=1.21.1 in /usr/local/lib/python3.12/dist-packages (from requests->quantecon) (2.5.0)\n",
            "Requirement already satisfied: certifi>=2017.4.17 in /usr/local/lib/python3.12/dist-packages (from requests->quantecon) (2025.8.3)\n",
            "Requirement already satisfied: mpmath<1.4,>=1.1.0 in /usr/local/lib/python3.12/dist-packages (from sympy->quantecon) (1.3.0)\n",
            "Downloading quantecon-0.10.1-py3-none-any.whl (325 kB)\n",
            "\u001b[2K   \u001b[90m━━━━━━━━━━━━━━━━━━━━━━━━━━━━━━━━━━━━━━━━\u001b[0m \u001b[32m325.7/325.7 kB\u001b[0m \u001b[31m5.7 MB/s\u001b[0m eta \u001b[36m0:00:00\u001b[0m\n",
            "\u001b[?25hInstalling collected packages: quantecon\n",
            "Successfully installed quantecon-0.10.1\n"
          ]
        }
      ],
      "source": [
        "!pip install quantecon"
      ]
    },
    {
      "cell_type": "markdown",
      "id": "fdec5ab2",
      "metadata": {
        "id": "fdec5ab2"
      },
      "source": [
        "We use the following imports."
      ]
    },
    {
      "cell_type": "code",
      "execution_count": 7,
      "id": "727c4e52",
      "metadata": {
        "execution": {
          "iopub.execute_input": "2025-10-08T04:46:04.686135Z",
          "iopub.status.busy": "2025-10-08T04:46:04.685807Z",
          "iopub.status.idle": "2025-10-08T04:46:05.416744Z",
          "shell.execute_reply": "2025-10-08T04:46:05.416325Z"
        },
        "id": "727c4e52"
      },
      "outputs": [],
      "source": [
        "import numba\n",
        "import numpy as np\n",
        "import matplotlib.pyplot as plt\n",
        "import quantecon as qe"
      ]
    },
    {
      "cell_type": "markdown",
      "id": "ff4afece",
      "metadata": {
        "id": "ff4afece"
      },
      "source": [
        "## Preamble: The Lorenz curve and Gini coefficient"
      ]
    },
    {
      "cell_type": "markdown",
      "id": "a6f1a27b",
      "metadata": {
        "id": "a6f1a27b"
      },
      "source": [
        "### Definition\n",
        "\n",
        "Let $w_1, \\ldots, w_n$ be a sample of observations of wealth (or income, or\n",
        "consumption, or firm sizes, etc.) in a population.\n",
        "\n",
        "Suppose the sample has been sorted from smallest to largest.\n",
        "\n",
        "The Lorenz curve takes this sample and produces a curve $L$.\n",
        "\n",
        "To create it we first generate data points $(x_i, y_i)_{i=0}^n$  according to\n",
        "\n",
        "$$\n",
        "    x_0 = y_0 = 0\n",
        "    \\qquad \\text{and, for $i \\geq 1$,} \\quad\n",
        "    x_i = \\frac{i}{n},\n",
        "    \\qquad\n",
        "    y_i =\n",
        "       \\frac{\\sum_{j \\leq i} w_j}{\\sum_{j \\leq n} w_j}  \n",
        "$$\n",
        "\n",
        "Now the Lorenz curve $L$ is formed from these data points using interpolation.\n",
        "\n",
        "The meaning of the statement $y = L(x)$ is that the lowest $(100 \\times x)$\\% of\n",
        "people have $(100 \\times y)$\\% of all wealth.\n",
        "\n",
        "* if $x=0.5$ and $y=0.1$, then the bottom 50% of the population\n",
        "  owns 10% of the wealth.\n",
        "\n",
        "### Using QuantEcon's routine\n",
        "\n",
        "Let's look at an example.\n",
        "\n",
        "First we generate $n=2000$ draws from a lognormal distribution and treat these draws as our population."
      ]
    },
    {
      "cell_type": "code",
      "execution_count": 8,
      "id": "a4dbdd13",
      "metadata": {
        "execution": {
          "iopub.execute_input": "2025-10-08T04:46:05.418827Z",
          "iopub.status.busy": "2025-10-08T04:46:05.418643Z",
          "iopub.status.idle": "2025-10-08T04:46:05.420701Z",
          "shell.execute_reply": "2025-10-08T04:46:05.420403Z"
        },
        "id": "a4dbdd13"
      },
      "outputs": [],
      "source": [
        "n = 2000\n",
        "sample = np.exp(np.random.randn(n))       # Lognormal sample"
      ]
    },
    {
      "cell_type": "markdown",
      "id": "34afa3e5",
      "metadata": {
        "id": "34afa3e5"
      },
      "source": [
        "We then generate the Lorenz curve using a routine from `quantecon`."
      ]
    },
    {
      "cell_type": "code",
      "execution_count": 9,
      "id": "3904c8b5",
      "metadata": {
        "execution": {
          "iopub.execute_input": "2025-10-08T04:46:05.422074Z",
          "iopub.status.busy": "2025-10-08T04:46:05.421948Z",
          "iopub.status.idle": "2025-10-08T04:46:07.269264Z",
          "shell.execute_reply": "2025-10-08T04:46:07.268766Z"
        },
        "id": "3904c8b5"
      },
      "outputs": [],
      "source": [
        "x, y = qe.lorenz_curve(sample)            # QuantEcon routine (no need to sort)"
      ]
    },
    {
      "cell_type": "markdown",
      "id": "30308d5c",
      "metadata": {
        "id": "30308d5c"
      },
      "source": [
        "Now `x` and `y` contain the sample points $x_i$, $y_i$.\n",
        "\n",
        "Let's plot, allowing Matplotlib to provide the interpolation.\n",
        "\n",
        "The straight line ($x=L(x)$ for all $x$) corresponds to perfect equality.  \n",
        "\n",
        "The lognormal draws produce a less equal distribution."
      ]
    },
    {
      "cell_type": "code",
      "execution_count": 10,
      "id": "a1e09d14",
      "metadata": {
        "execution": {
          "iopub.execute_input": "2025-10-08T04:46:07.271201Z",
          "iopub.status.busy": "2025-10-08T04:46:07.271058Z",
          "iopub.status.idle": "2025-10-08T04:46:07.338303Z",
          "shell.execute_reply": "2025-10-08T04:46:07.337816Z"
        },
        "id": "a1e09d14",
        "outputId": "55c105f4-cf6d-4c91-9a47-1049df538eca",
        "colab": {
          "base_uri": "https://localhost:8080/",
          "height": 435
        }
      },
      "outputs": [
        {
          "output_type": "display_data",
          "data": {
            "text/plain": [
              "<Figure size 640x480 with 1 Axes>"
            ],
            "image/png": "[encoded data removed]"
          },
          "metadata": {}
        }
      ],
      "source": [
        "fig, ax = plt.subplots()\n",
        "ax.plot(x, y, label=f'lognormal sample', lw=2)\n",
        "ax.plot(x, x, label='equality', lw=2)\n",
        "ax.legend(fontsize=12)\n",
        "ax.set_ylim((0, 1))\n",
        "ax.set_xlim((0, 1))\n",
        "j = 1600  # dashed lines for j-th element\n",
        "ax.vlines(x[j], [0.0], y[j], alpha=0.5, colors='k', ls='--')\n",
        "ax.hlines(y[j], [0], x[j], alpha=0.5, colors='k', ls='--')\n",
        "plt.show()"
      ]
    },
    {
      "cell_type": "markdown",
      "id": "fecf69db",
      "metadata": {
        "id": "fecf69db"
      },
      "source": [
        "For example, if we imagine these draws as being observations of wealth across a\n",
        "sample of households, then the dashed lines show that the bottom 80\\% of\n",
        "households own just over 40\\% of total wealth.\n"
      ]
    },
    {
      "cell_type": "markdown",
      "id": "04f3356d",
      "metadata": {
        "id": "04f3356d"
      },
      "source": [
        "**Exercise**\n",
        "\n",
        "Using the definition of the Lorenz curve given above and NumPy, try to write\n",
        "your own version of `qe.lorenz_curve`.  \n",
        "\n",
        "* If possible, accelerate your code with Numba"
      ]
    },
    {
      "cell_type": "markdown",
      "id": "ca33e46b",
      "metadata": {
        "id": "ca33e46b"
      },
      "source": [
        "Try to replicate the figure above, using the same lognormal data set."
      ]
    },
    {
      "cell_type": "code",
      "execution_count": 34,
      "id": "a27be514",
      "metadata": {
        "execution": {
          "iopub.execute_input": "2025-10-08T04:46:07.339818Z",
          "iopub.status.busy": "2025-10-08T04:46:07.339684Z",
          "iopub.status.idle": "2025-10-08T04:46:07.341464Z",
          "shell.execute_reply": "2025-10-08T04:46:07.341134Z"
        },
        "id": "a27be514",
        "outputId": "7406addf-23ee-49c9-dd78-f5ec510ff742",
        "colab": {
          "base_uri": "https://localhost:8080/",
          "height": 574
        }
      },
      "outputs": [
        {
          "output_type": "stream",
          "name": "stdout",
          "text": [
            "CPU times: user 2.08 ms, sys: 0 ns, total: 2.08 ms\n",
            "Wall time: 2.1 ms\n",
            "CPU times: user 1.43 ms, sys: 616 µs, total: 2.04 ms\n",
            "Wall time: 2.07 ms\n",
            "CPU times: user 533 ms, sys: 159 µs, total: 533 ms\n",
            "Wall time: 537 ms\n",
            "CPU times: user 177 µs, sys: 0 ns, total: 177 µs\n",
            "Wall time: 180 µs\n"
          ]
        },
        {
          "output_type": "display_data",
          "data": {
            "text/plain": [
              "<Figure size 640x480 with 1 Axes>"
            ],
            "image/png": "[encoded data removed]"
          },
          "metadata": {}
        }
      ],
      "source": [
        "# Put your code here\n",
        "sample = np.exp(np.random.randn(n))       # Lognormal sample\n",
        "\n",
        "def mylore(sample):\n",
        "    n = len(sample)\n",
        "    ysort = np.sort(sample)\n",
        "    xsort = range(n)\n",
        "\n",
        "    lorenz = np.empty(n)\n",
        "    lorenz[0] = 0\n",
        "    xaxis = np.empty(n)\n",
        "    xaxis[0] = 0\n",
        "    for i in range(n-1):\n",
        "        lorenz[i+1] = lorenz[i] + ysort[i]\n",
        "        xaxis[i+1] = i\n",
        "\n",
        "    lorenz = lorenz / lorenz[n-1]\n",
        "    xaxis = xaxis / (n-1)\n",
        "    return xaxis, lorenz\n",
        "\n",
        "%time xaxis, lorenz = mylore(sample)\n",
        "\n",
        "%time xaxis, lorenz = mylore(sample)\n",
        "\n",
        "numba_mylore = numba.jit(mylore)\n",
        "\n",
        "%time xaxis, lorenz = numba_mylore(sample)\n",
        "%time xaxis, lorenz = numba_mylore(sample)\n",
        "\n",
        "fig, ax = plt.subplots()\n",
        "ax.plot(xaxis, lorenz, label=f'lognormal sample', lw=2)\n",
        "ax.plot(xaxis, xaxis, label='equality', lw=2)\n",
        "ax.legend(fontsize=12)\n",
        "ax.set_ylim((0, 1))\n",
        "ax.set_xlim((0, 1))\n",
        "j = 1600  # dashed lines for j-th element\n",
        "ax.vlines(xaxis[j], [0.0], lorenz[j], alpha=0.5, colors='k', ls='--')\n",
        "ax.hlines(lorenz[j], [0], xaxis[j], alpha=0.5, colors='k', ls='--')\n",
        "plt.show()\n",
        "\n",
        "\n",
        "\n"
      ]
    },
    {
      "cell_type": "code",
      "execution_count": null,
      "id": "04dce9ba",
      "metadata": {
        "execution": {
          "iopub.execute_input": "2025-10-08T04:46:07.342910Z",
          "iopub.status.busy": "2025-10-08T04:46:07.342801Z",
          "iopub.status.idle": "2025-10-08T04:46:07.345094Z",
          "shell.execute_reply": "2025-10-08T04:46:07.344707Z"
        },
        "lines_to_next_cell": 2,
        "id": "04dce9ba",
        "outputId": "38b29067-6834-45df-93ba-4ecf7d29f51b"
      },
      "outputs": [
        {
          "name": "stdout",
          "output_type": "stream",
          "text": [
            "Solution below.\n",
            "Solution below.\n",
            "Solution below.\n",
            "Solution below.\n",
            "Solution below.\n",
            "Solution below.\n",
            "Solution below.\n",
            "Solution below.\n",
            "Solution below.\n",
            "Solution below.\n",
            "Solution below.\n",
            "Solution below.\n",
            "Solution below.\n",
            "Solution below.\n",
            "Solution below.\n",
            "Solution below.\n",
            "Solution below.\n",
            "Solution below.\n",
            "Solution below.\n",
            "Solution below.\n"
          ]
        }
      ],
      "source": [
        "for i in range(20):\n",
        "    print(\"Solution below.\")"
      ]
    },
    {
      "cell_type": "code",
      "execution_count": null,
      "id": "1ea39fb6",
      "metadata": {
        "execution": {
          "iopub.execute_input": "2025-10-08T04:46:07.346331Z",
          "iopub.status.busy": "2025-10-08T04:46:07.346197Z",
          "iopub.status.idle": "2025-10-08T04:46:07.566664Z",
          "shell.execute_reply": "2025-10-08T04:46:07.566199Z"
        },
        "lines_to_next_cell": 2,
        "id": "1ea39fb6",
        "outputId": "dc3db255-b0db-4eac-c41b-bc4a3be8a1e1"
      },
      "outputs": [
        {
          "data": {
            "image/png": "[encoded data removed]",
            "text/plain": [
              "<Figure size 640x480 with 1 Axes>"
            ]
          },
          "metadata": {},
          "output_type": "display_data"
        }
      ],
      "source": [
        "\n",
        "@numba.jit\n",
        "def lorenz_curve(w):\n",
        "    n = len(w)\n",
        "    w = np.sort(w)\n",
        "    x = np.zeros(n + 1)\n",
        "    y = np.zeros(n + 1)\n",
        "    running_sum = w[0]\n",
        "    total_sum = np.sum(w)\n",
        "    for i in range(1, n + 1):\n",
        "        x[i] = i / n\n",
        "        y[i] = running_sum / total_sum\n",
        "        running_sum += w[i]\n",
        "    return x, y\n",
        "\n",
        "x, y = lorenz_curve(sample)    # Our routine\n",
        "\n",
        "fig, ax = plt.subplots()\n",
        "ax.plot(x, y, label=f'lognormal sample', lw=2)\n",
        "ax.plot(x, x, label='equality', lw=2)\n",
        "ax.legend(fontsize=12)\n",
        "ax.set_ylim((0, 1))\n",
        "ax.set_xlim((0, 1))\n",
        "j = 1600  # dashed lines for j-th element\n",
        "ax.vlines(x[j], [0.0], y[j], alpha=0.5, colors='k', ls='--')\n",
        "ax.hlines(y[j], [0], x[j], alpha=0.5, colors='k', ls='--')\n",
        "plt.show()"
      ]
    },
    {
      "cell_type": "markdown",
      "id": "b2e918a5",
      "metadata": {
        "id": "b2e918a5"
      },
      "source": [
        "## The Gini coefficient\n",
        "\n",
        "### Definition\n",
        "\n",
        "Continuing to assume that $w_1, \\ldots, w_n$ has been sorted from smallest to largest,\n",
        "the Gini coefficient of the sample is defined by\n",
        "\n",
        "$$\n",
        "    G :=\n",
        "    \\frac\n",
        "        {\\sum_{i=1}^n \\sum_{j = 1}^n |w_j - w_i|}\n",
        "        {2n\\sum_{i=1}^n w_i}.\n",
        "$$\n"
      ]
    },
    {
      "cell_type": "markdown",
      "id": "e444e0a4",
      "metadata": {
        "id": "e444e0a4"
      },
      "source": [
        "### Using QuantEcon's routine\n",
        "\n",
        "Let's examine the Gini coefficient in some simulations using `gini_coefficient`\n",
        "from `quantecon`.\n",
        "\n",
        "The following code computes the Gini coefficients for five different populations.\n",
        "\n",
        "Each of these populations is generated by drawing from a lognormal distribution with parameters $\\mu$ (mean) and $\\sigma$ (standard deviation).\n",
        "\n",
        "To create the five populations, we vary $\\sigma$ over a grid of length $5$\n",
        "between $0.2$ and $4$.\n",
        "\n",
        "In each case we set $\\mu = - \\sigma^2 / 2$, so that the mean of the distribution does not change with $\\sigma$."
      ]
    },
    {
      "cell_type": "code",
      "execution_count": 35,
      "id": "01bcd56f",
      "metadata": {
        "execution": {
          "iopub.execute_input": "2025-10-08T04:46:07.568187Z",
          "iopub.status.busy": "2025-10-08T04:46:07.568068Z",
          "iopub.status.idle": "2025-10-08T04:46:08.103892Z",
          "shell.execute_reply": "2025-10-08T04:46:08.103527Z"
        },
        "id": "01bcd56f"
      },
      "outputs": [],
      "source": [
        "k = 5\n",
        "σ_vals = np.linspace(0.2, 4, k)\n",
        "n = 2_000\n",
        "ginis = []\n",
        "for σ in σ_vals:\n",
        "    # Generate the data\n",
        "    μ = -σ**2 / 2\n",
        "    y = np.exp(μ + σ * np.random.randn(n))\n",
        "    # Calculate the Gini coefficient\n",
        "    ginis.append(qe.gini_coefficient(y))"
      ]
    },
    {
      "cell_type": "code",
      "execution_count": 36,
      "id": "adf9ec48",
      "metadata": {
        "execution": {
          "iopub.execute_input": "2025-10-08T04:46:08.106837Z",
          "iopub.status.busy": "2025-10-08T04:46:08.106624Z",
          "iopub.status.idle": "2025-10-08T04:46:08.224378Z",
          "shell.execute_reply": "2025-10-08T04:46:08.223968Z"
        },
        "id": "adf9ec48",
        "outputId": "93f57478-63f5-4122-e149-ed301fe76a34",
        "colab": {
          "base_uri": "https://localhost:8080/",
          "height": 522
        }
      },
      "outputs": [
        {
          "output_type": "stream",
          "name": "stderr",
          "text": [
            "<>:3: SyntaxWarning: invalid escape sequence '\\s'\n",
            "<>:3: SyntaxWarning: invalid escape sequence '\\s'\n",
            "/tmp/ipython-input-3465911512.py:3: SyntaxWarning: invalid escape sequence '\\s'\n",
            "  ax.set_xlabel('$\\sigma$', fontsize=12)\n"
          ]
        },
        {
          "output_type": "display_data",
          "data": {
            "text/plain": [
              "<Figure size 640x480 with 1 Axes>"
            ],
            "image/png": "[encoded data removed]"
          },
          "metadata": {}
        }
      ],
      "source": [
        "fig, ax = plt.subplots()\n",
        "ax.plot(σ_vals, ginis, marker='o')\n",
        "ax.set_xlabel('$\\sigma$', fontsize=12)\n",
        "ax.set_ylabel('Gini coefficient', fontsize=12)\n",
        "plt.show()"
      ]
    },
    {
      "cell_type": "markdown",
      "id": "117237fc",
      "metadata": {
        "id": "117237fc"
      },
      "source": [
        "The plots show that inequality rises with $\\sigma$ (as measured by the Gini coefficient)."
      ]
    },
    {
      "cell_type": "markdown",
      "id": "9a4573d5",
      "metadata": {
        "id": "9a4573d5"
      },
      "source": [
        "**Exercise**\n",
        "\n",
        "Using the definition above and NumPy, try to write your own version of\n",
        "`qe.gini_coefficient`.  \n",
        "\n",
        "* Try to replicate the figure above.\n",
        "* Accelerate your code with Numba.\n",
        "* If possible, parallelize one of the loops.\n"
      ]
    },
    {
      "cell_type": "code",
      "execution_count": null,
      "id": "c093c704",
      "metadata": {
        "execution": {
          "iopub.execute_input": "2025-10-08T04:46:08.226167Z",
          "iopub.status.busy": "2025-10-08T04:46:08.226030Z",
          "iopub.status.idle": "2025-10-08T04:46:08.228252Z",
          "shell.execute_reply": "2025-10-08T04:46:08.227802Z"
        },
        "id": "c093c704",
        "outputId": "07005c11-cbab-41fa-83b6-5420963858de",
        "colab": {
          "base_uri": "https://localhost:8080/"
        }
      },
      "outputs": [
        {
          "output_type": "stream",
          "name": "stderr",
          "text": [
            "<>:32: SyntaxWarning: invalid escape sequence '\\s'\n",
            "<>:32: SyntaxWarning: invalid escape sequence '\\s'\n",
            "/tmp/ipython-input-3854223509.py:32: SyntaxWarning: invalid escape sequence '\\s'\n",
            "  ax.set_xlabel('$\\sigma$', fontsize=12)\n"
          ]
        }
      ],
      "source": [
        "# Put your code here\n",
        "import numba\n",
        "import numpy as np\n",
        "import matplotlib.pyplot as plt\n",
        "#import quantecon as qe\n",
        "\n",
        "@numba.jit\n",
        "def mygini(w):\n",
        "  n = len(w)\n",
        "  wsort = np.sort(w)\n",
        "  rsum1 = 0\n",
        "  rsum2 = 0\n",
        "  for i in range(n-1):\n",
        "    for j in range(n-1):\n",
        "      rsum1 += abs(wsort[j] - wsort[i])\n",
        "    rsum2 += wsort[i]\n",
        "  return rsum1/(2 * n * rsum2)\n",
        "\n",
        "k = 5\n",
        "σ_vals = np.linspace(0.2, 4, k)\n",
        "n = 1_000_000\n",
        "ginis = []\n",
        "for σ in σ_vals:\n",
        "    # Generate the data\n",
        "    μ = -σ**2 / 2\n",
        "    y = np.exp(μ + σ * np.random.randn(n))\n",
        "    # Calculate the Gini coefficient\n",
        "    %time ginis.append(mygini(y))\n",
        "\n",
        "fig, ax = plt.subplots()\n",
        "ax.plot(σ_vals, ginis, marker='o')\n",
        "ax.set_xlabel('$\\sigma$', fontsize=12)\n",
        "ax.set_ylabel('Gini coefficient', fontsize=12)\n",
        "plt.show()"
      ]
    },
    {
      "cell_type": "code",
      "execution_count": null,
      "id": "765111c7",
      "metadata": {
        "execution": {
          "iopub.execute_input": "2025-10-08T04:46:08.229442Z",
          "iopub.status.busy": "2025-10-08T04:46:08.229189Z",
          "iopub.status.idle": "2025-10-08T04:46:08.231536Z",
          "shell.execute_reply": "2025-10-08T04:46:08.231194Z"
        },
        "id": "765111c7",
        "outputId": "1cde71b8-4e7c-4559-8970-08bf6f7bfcc3"
      },
      "outputs": [
        {
          "name": "stdout",
          "output_type": "stream",
          "text": [
            "Solution below.\n",
            "Solution below.\n",
            "Solution below.\n",
            "Solution below.\n",
            "Solution below.\n",
            "Solution below.\n",
            "Solution below.\n",
            "Solution below.\n",
            "Solution below.\n",
            "Solution below.\n",
            "Solution below.\n",
            "Solution below.\n"
          ]
        }
      ],
      "source": [
        "for i in range(12):\n",
        "    print(\"Solution below.\")"
      ]
    },
    {
      "cell_type": "markdown",
      "id": "a1f0cc26",
      "metadata": {
        "id": "a1f0cc26"
      },
      "source": [
        "**Solution**\n",
        "\n",
        "Here's one solution, without parallelization"
      ]
    },
    {
      "cell_type": "code",
      "execution_count": null,
      "id": "f81b0381",
      "metadata": {
        "execution": {
          "iopub.execute_input": "2025-10-08T04:46:08.232715Z",
          "iopub.status.busy": "2025-10-08T04:46:08.232611Z",
          "iopub.status.idle": "2025-10-08T04:46:08.235266Z",
          "shell.execute_reply": "2025-10-08T04:46:08.234876Z"
        },
        "id": "f81b0381"
      },
      "outputs": [],
      "source": [
        "@numba.jit\n",
        "def gini_coefficient(w):\n",
        "    n = len(w)\n",
        "    s = 0.0\n",
        "    for i in range(n):\n",
        "        for j in range(n):\n",
        "            s += abs(w[i] - w[j])\n",
        "    return s / (2 * n * np.sum(w))"
      ]
    },
    {
      "cell_type": "code",
      "execution_count": null,
      "id": "9b8bf0b2",
      "metadata": {
        "execution": {
          "iopub.execute_input": "2025-10-08T04:46:08.236648Z",
          "iopub.status.busy": "2025-10-08T04:46:08.236544Z",
          "iopub.status.idle": "2025-10-08T04:46:17.343370Z",
          "shell.execute_reply": "2025-10-08T04:46:17.342980Z"
        },
        "id": "9b8bf0b2",
        "outputId": "8d348c51-0163-4e09-f6fb-6c92c225bde7"
      },
      "outputs": [
        {
          "data": {
            "text/plain": [
              "0.5193119570565881"
            ]
          },
          "execution_count": 14,
          "metadata": {},
          "output_type": "execute_result"
        }
      ],
      "source": [
        "sample = np.exp(np.random.randn(100_000))\n",
        "gini_coefficient(sample)"
      ]
    },
    {
      "cell_type": "code",
      "execution_count": null,
      "id": "a9c7a7e1",
      "metadata": {
        "execution": {
          "iopub.execute_input": "2025-10-08T04:46:17.344779Z",
          "iopub.status.busy": "2025-10-08T04:46:17.344662Z",
          "iopub.status.idle": "2025-10-08T04:46:26.301554Z",
          "shell.execute_reply": "2025-10-08T04:46:26.301254Z"
        },
        "id": "a9c7a7e1",
        "outputId": "54c0768a-7942-494c-9313-160f1accf618"
      },
      "outputs": [
        {
          "name": "stdout",
          "output_type": "stream",
          "text": [
            "CPU times: user 9.01 s, sys: 21.3 ms, total: 9.03 s\n",
            "Wall time: 8.95 s\n"
          ]
        },
        {
          "data": {
            "text/plain": [
              "0.5193119570565881"
            ]
          },
          "execution_count": 15,
          "metadata": {},
          "output_type": "execute_result"
        }
      ],
      "source": [
        "%time gini_coefficient(sample)"
      ]
    },
    {
      "cell_type": "markdown",
      "id": "b3aa78f3",
      "metadata": {
        "id": "b3aa78f3"
      },
      "source": [
        "Here's another, with parallelization"
      ]
    },
    {
      "cell_type": "code",
      "execution_count": null,
      "id": "3c15cc9f",
      "metadata": {
        "execution": {
          "iopub.execute_input": "2025-10-08T04:46:26.302578Z",
          "iopub.status.busy": "2025-10-08T04:46:26.302470Z",
          "iopub.status.idle": "2025-10-08T04:46:26.305100Z",
          "shell.execute_reply": "2025-10-08T04:46:26.304646Z"
        },
        "id": "3c15cc9f"
      },
      "outputs": [],
      "source": [
        "@numba.jit(parallel=True)\n",
        "def gini_coefficient(w):\n",
        "    n = len(w)\n",
        "    s = 0.0\n",
        "    for i in numba.prange(n):\n",
        "        for j in range(n):\n",
        "            s += abs(w[i] - w[j])\n",
        "    return s / (2 * n * np.sum(w))"
      ]
    },
    {
      "cell_type": "code",
      "execution_count": null,
      "id": "27606da0",
      "metadata": {
        "execution": {
          "iopub.execute_input": "2025-10-08T04:46:26.306057Z",
          "iopub.status.busy": "2025-10-08T04:46:26.305948Z",
          "iopub.status.idle": "2025-10-08T04:46:28.077025Z",
          "shell.execute_reply": "2025-10-08T04:46:28.076585Z"
        },
        "id": "27606da0",
        "outputId": "866059e4-747c-4a20-804d-10b1aa7f89f6"
      },
      "outputs": [
        {
          "data": {
            "text/plain": [
              "0.519311957055201"
            ]
          },
          "execution_count": 17,
          "metadata": {},
          "output_type": "execute_result"
        }
      ],
      "source": [
        "gini_coefficient(sample)"
      ]
    },
    {
      "cell_type": "code",
      "execution_count": null,
      "id": "f710cbf9",
      "metadata": {
        "execution": {
          "iopub.execute_input": "2025-10-08T04:46:28.078664Z",
          "iopub.status.busy": "2025-10-08T04:46:28.078515Z",
          "iopub.status.idle": "2025-10-08T04:46:29.507508Z",
          "shell.execute_reply": "2025-10-08T04:46:29.507231Z"
        },
        "id": "f710cbf9",
        "outputId": "3d27aec0-4171-4334-bb52-e33737a5a50b"
      },
      "outputs": [
        {
          "name": "stdout",
          "output_type": "stream",
          "text": [
            "CPU times: user 10.6 s, sys: 7.6 ms, total: 10.6 s\n",
            "Wall time: 1.42 s\n"
          ]
        },
        {
          "data": {
            "text/plain": [
              "0.519311957055201"
            ]
          },
          "execution_count": 18,
          "metadata": {},
          "output_type": "execute_result"
        }
      ],
      "source": [
        "%time gini_coefficient(sample)"
      ]
    },
    {
      "cell_type": "code",
      "execution_count": null,
      "id": "0f68775c",
      "metadata": {
        "execution": {
          "iopub.execute_input": "2025-10-08T04:46:29.509438Z",
          "iopub.status.busy": "2025-10-08T04:46:29.508940Z",
          "iopub.status.idle": "2025-10-08T04:46:29.567949Z",
          "shell.execute_reply": "2025-10-08T04:46:29.567579Z"
        },
        "id": "0f68775c",
        "outputId": "2c87010b-392d-47dd-daa7-dedb2d4d7f63"
      },
      "outputs": [
        {
          "data": {
            "image/png": "[encoded data removed]",
            "text/plain": [
              "<Figure size 640x480 with 1 Axes>"
            ]
          },
          "metadata": {},
          "output_type": "display_data"
        }
      ],
      "source": [
        "ginis = []\n",
        "\n",
        "for σ in σ_vals:\n",
        "    μ = -σ**2 / 2\n",
        "    y = np.exp(μ + σ * np.random.randn(n))\n",
        "    ginis.append(gini_coefficient(y))\n",
        "\n",
        "\n",
        "fig, ax = plt.subplots()\n",
        "ax.plot(σ_vals, ginis, marker='o')\n",
        "ax.set_xlabel('$\\sigma$', fontsize=12)\n",
        "ax.set_ylabel('Gini coefficient', fontsize=12)\n",
        "plt.show()"
      ]
    },
    {
      "cell_type": "code",
      "execution_count": null,
      "id": "4c425d6c",
      "metadata": {
        "id": "4c425d6c"
      },
      "outputs": [],
      "source": []
    }
  ],
  "metadata": {
    "jupytext": {
      "default_lexer": "ipython3"
    },
    "kernelspec": {
      "display_name": "Python 3 (ipykernel)",
      "language": "python",
      "name": "python3"
    },
    "language_info": {
      "codemirror_mode": {
        "name": "ipython",
        "version": 3
      },
      "file_extension": ".py",
      "mimetype": "text/x-python",
      "name": "python",
      "nbconvert_exporter": "python",
      "pygments_lexer": "ipython3",
      "version": "3.11.13"
    },
    "colab": {
      "provenance": []
    }
  },
  "nbformat": 4,
  "nbformat_minor": 5
}