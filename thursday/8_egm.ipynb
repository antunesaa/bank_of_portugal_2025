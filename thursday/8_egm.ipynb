{
  "cells": [
    {
      "cell_type": "markdown",
      "id": "9d323aa6",
      "metadata": {
        "id": "9d323aa6"
      },
      "source": [
        "# The Endogenous Grid Method\n",
        "\n",
        "\n",
        "**Prepared for the Bank of Portugal Computational Economics Course (Oct 2025)**\n",
        "\n",
        "**Author:** [John Stachurski](https://johnstachurski.net)"
      ]
    },
    {
      "cell_type": "markdown",
      "id": "3eb56986",
      "metadata": {
        "id": "3eb56986"
      },
      "source": [
        "## Overview\n",
        "\n",
        "In this lecture we use the endogenous grid method (EGM) to solve a basic income\n",
        "fluctuation (household optimal savings) problem.\n",
        "\n",
        "To keep things simple, the interest rate will be constant and labor income will\n",
        "be IID.\n"
      ]
    },
    {
      "cell_type": "code",
      "execution_count": 1,
      "id": "9e2aa0b3",
      "metadata": {
        "execution": {
          "iopub.execute_input": "2025-10-07T05:07:35.287541Z",
          "iopub.status.busy": "2025-10-07T05:07:35.287062Z",
          "iopub.status.idle": "2025-10-07T05:07:35.293751Z",
          "shell.execute_reply": "2025-10-07T05:07:35.292491Z"
        },
        "id": "9e2aa0b3",
        "outputId": "58431793-a79b-428d-90c8-32e5c0453adb",
        "colab": {
          "base_uri": "https://localhost:8080/"
        }
      },
      "outputs": [
        {
          "output_type": "stream",
          "name": "stdout",
          "text": [
            "Collecting quantecon\n",
            "  Downloading quantecon-0.10.1-py3-none-any.whl.metadata (5.3 kB)\n",
            "Requirement already satisfied: numba>=0.49.0 in /usr/local/lib/python3.12/dist-packages (from quantecon) (0.60.0)\n",
            "Requirement already satisfied: numpy>=1.17.0 in /usr/local/lib/python3.12/dist-packages (from quantecon) (2.0.2)\n",
            "Requirement already satisfied: requests in /usr/local/lib/python3.12/dist-packages (from quantecon) (2.32.4)\n",
            "Requirement already satisfied: scipy>=1.5.0 in /usr/local/lib/python3.12/dist-packages (from quantecon) (1.16.2)\n",
            "Requirement already satisfied: sympy in /usr/local/lib/python3.12/dist-packages (from quantecon) (1.13.3)\n",
            "Requirement already satisfied: llvmlite<0.44,>=0.43.0dev0 in /usr/local/lib/python3.12/dist-packages (from numba>=0.49.0->quantecon) (0.43.0)\n",
            "Requirement already satisfied: charset_normalizer<4,>=2 in /usr/local/lib/python3.12/dist-packages (from requests->quantecon) (3.4.3)\n",
            "Requirement already satisfied: idna<4,>=2.5 in /usr/local/lib/python3.12/dist-packages (from requests->quantecon) (3.10)\n",
            "Requirement already satisfied: urllib3<3,>=1.21.1 in /usr/local/lib/python3.12/dist-packages (from requests->quantecon) (2.5.0)\n",
            "Requirement already satisfied: certifi>=2017.4.17 in /usr/local/lib/python3.12/dist-packages (from requests->quantecon) (2025.8.3)\n",
            "Requirement already satisfied: mpmath<1.4,>=1.1.0 in /usr/local/lib/python3.12/dist-packages (from sympy->quantecon) (1.3.0)\n",
            "Downloading quantecon-0.10.1-py3-none-any.whl (325 kB)\n",
            "\u001b[2K   \u001b[90m━━━━━━━━━━━━━━━━━━━━━━━━━━━━━━━━━━━━━━━━\u001b[0m \u001b[32m325.7/325.7 kB\u001b[0m \u001b[31m10.3 MB/s\u001b[0m eta \u001b[36m0:00:00\u001b[0m\n",
            "\u001b[?25hInstalling collected packages: quantecon\n",
            "Successfully installed quantecon-0.10.1\n"
          ]
        }
      ],
      "source": [
        "!pip install quantecon  # Uncomment if necessary"
      ]
    },
    {
      "cell_type": "markdown",
      "id": "f98969cd",
      "metadata": {
        "id": "f98969cd"
      },
      "source": [
        "We will use the following imports."
      ]
    },
    {
      "cell_type": "code",
      "execution_count": 2,
      "id": "fdf7cdb0",
      "metadata": {
        "execution": {
          "iopub.execute_input": "2025-10-07T05:07:35.298011Z",
          "iopub.status.busy": "2025-10-07T05:07:35.297508Z",
          "iopub.status.idle": "2025-10-07T05:07:36.172664Z",
          "shell.execute_reply": "2025-10-07T05:07:36.172139Z"
        },
        "id": "fdf7cdb0"
      },
      "outputs": [],
      "source": [
        "import quantecon as qe\n",
        "import matplotlib.pyplot as plt\n",
        "import numpy as np\n",
        "import jax\n",
        "import jax.numpy as jnp\n",
        "import numba\n",
        "from time import time\n",
        "from typing import NamedTuple"
      ]
    },
    {
      "cell_type": "markdown",
      "id": "26a9054a",
      "metadata": {
        "id": "26a9054a"
      },
      "source": [
        "Let’s check the GPU we are running"
      ]
    },
    {
      "cell_type": "code",
      "execution_count": 3,
      "id": "989a8deb",
      "metadata": {
        "execution": {
          "iopub.execute_input": "2025-10-07T05:07:36.174244Z",
          "iopub.status.busy": "2025-10-07T05:07:36.174040Z",
          "iopub.status.idle": "2025-10-07T05:07:36.322660Z",
          "shell.execute_reply": "2025-10-07T05:07:36.320925Z"
        },
        "id": "989a8deb",
        "outputId": "246bb83d-0476-4ba5-ffb8-b8217acad83f",
        "colab": {
          "base_uri": "https://localhost:8080/"
        }
      },
      "outputs": [
        {
          "output_type": "stream",
          "name": "stdout",
          "text": [
            "Fri Oct 10 09:19:22 2025       \n",
            "+-----------------------------------------------------------------------------------------+\n",
            "| NVIDIA-SMI 550.54.15              Driver Version: 550.54.15      CUDA Version: 12.4     |\n",
            "|-----------------------------------------+------------------------+----------------------+\n",
            "| GPU  Name                 Persistence-M | Bus-Id          Disp.A | Volatile Uncorr. ECC |\n",
            "| Fan  Temp   Perf          Pwr:Usage/Cap |           Memory-Usage | GPU-Util  Compute M. |\n",
            "|                                         |                        |               MIG M. |\n",
            "|=========================================+========================+======================|\n",
            "|   0  Tesla T4                       Off |   00000000:00:04.0 Off |                    0 |\n",
            "| N/A   44C    P8              9W /   70W |       0MiB /  15360MiB |      0%      Default |\n",
            "|                                         |                        |                  N/A |\n",
            "+-----------------------------------------+------------------------+----------------------+\n",
            "                                                                                         \n",
            "+-----------------------------------------------------------------------------------------+\n",
            "| Processes:                                                                              |\n",
            "|  GPU   GI   CI        PID   Type   Process name                              GPU Memory |\n",
            "|        ID   ID                                                               Usage      |\n",
            "|=========================================================================================|\n",
            "|  No running processes found                                                             |\n",
            "+-----------------------------------------------------------------------------------------+\n"
          ]
        }
      ],
      "source": [
        "!nvidia-smi"
      ]
    },
    {
      "cell_type": "markdown",
      "id": "dc48071a",
      "metadata": {
        "id": "dc48071a"
      },
      "source": [
        "Let's use 64 bit floating point numbers for extra precision."
      ]
    },
    {
      "cell_type": "code",
      "execution_count": 4,
      "id": "42f1283b",
      "metadata": {
        "execution": {
          "iopub.execute_input": "2025-10-07T05:07:36.327481Z",
          "iopub.status.busy": "2025-10-07T05:07:36.326946Z",
          "iopub.status.idle": "2025-10-07T05:07:36.333736Z",
          "shell.execute_reply": "2025-10-07T05:07:36.332359Z"
        },
        "lines_to_next_cell": 0,
        "id": "42f1283b"
      },
      "outputs": [],
      "source": [
        "jax.config.update(\"jax_enable_x64\", True)"
      ]
    },
    {
      "cell_type": "markdown",
      "id": "7858542d",
      "metadata": {
        "id": "7858542d"
      },
      "source": [
        "## Setup\n",
        "\n",
        "We consider a household that chooses a consumption plan $ \\{c_t\\}_{t \\geq 0} $ to maximize\n",
        "\n",
        "$$\n",
        "    \\mathbb{E} \\, \\sum_{t=0}^{\\infty} \\beta^t u(c_t)\n",
        "$$\n",
        "\n",
        "subject to\n",
        "\n",
        "$$\n",
        "    a_{t+1} \\leq  R(a_t - c_t)  + Y_{t+1},\n",
        "    \\quad c_t \\geq 0,\n",
        "    \\quad a_t \\geq 0\n",
        "    \\quad t = 0, 1, \\ldots\n",
        "$$\n",
        "\n",
        "Here $ R = 1 + r $ where $ r $ is the interest rate.\n",
        "\n",
        "To make our life simple, the income process $ \\{Y_t\\} $ will be IID and\n",
        "lognormal:\n",
        "\n",
        "$$\n",
        "    Y_t = \\exp(\\mu + \\sigma Z_t)\n",
        "    \\quad \\text{with} \\quad\n",
        "    Z_t ~ N(0,1)\n",
        "$$\n",
        "\n",
        "Utility has the CRRA specification\n",
        "\n",
        "$$\n",
        "u(c) = \\frac{c^{1 - \\gamma}} {1 - \\gamma}\n",
        "$$"
      ]
    },
    {
      "cell_type": "markdown",
      "id": "7bf82079",
      "metadata": {
        "id": "7bf82079"
      },
      "source": [
        "Here's a Model class to store parameters and arrays."
      ]
    },
    {
      "cell_type": "code",
      "execution_count": 5,
      "id": "ce688d0c",
      "metadata": {
        "execution": {
          "iopub.execute_input": "2025-10-07T05:07:36.337987Z",
          "iopub.status.busy": "2025-10-07T05:07:36.337486Z",
          "iopub.status.idle": "2025-10-07T05:07:36.344557Z",
          "shell.execute_reply": "2025-10-07T05:07:36.343589Z"
        },
        "id": "ce688d0c"
      },
      "outputs": [],
      "source": [
        "class Model(NamedTuple):\n",
        "    β: float            # discount factor\n",
        "    R: float            # gross interest rate\n",
        "    γ: float            # CRRA preference parameter\n",
        "    μ: float            # income location parameter\n",
        "    ν: float            # income volatility parameter\n",
        "    s_array: jax.Array  # savings grid\n",
        "    y_draws: jax.Array  # income draws for Monte Carlo"
      ]
    },
    {
      "cell_type": "markdown",
      "id": "2893cc25",
      "metadata": {
        "id": "2893cc25"
      },
      "source": [
        "This function creates an instance with default parameter values.\n"
      ]
    },
    {
      "cell_type": "code",
      "execution_count": 6,
      "id": "079c0f44",
      "metadata": {
        "execution": {
          "iopub.execute_input": "2025-10-07T05:07:36.348502Z",
          "iopub.status.busy": "2025-10-07T05:07:36.348052Z",
          "iopub.status.idle": "2025-10-07T05:07:36.356555Z",
          "shell.execute_reply": "2025-10-07T05:07:36.355520Z"
        },
        "lines_to_next_cell": 0,
        "id": "079c0f44"
      },
      "outputs": [],
      "source": [
        "def create_model(R=1.01,             # gross interest rate\n",
        "                 β=0.98,             # discount factor\n",
        "                 γ=1.5,              # CRRA preference parameter\n",
        "                 μ=-1.0,             # income location parameter\n",
        "                 ν=0.2,              # income volatility parameter\n",
        "                 s_max=16,           # savings grid max\n",
        "                 s_size=500,         # savings grid size\n",
        "                 y_size=2_000,       # number of income draws\n",
        "                 seed=42):           # random seed\n",
        "    \"\"\"\n",
        "    Builder function for Model class.\n",
        "\n",
        "    \"\"\"\n",
        "    # require R β < 1 for convergence\n",
        "    assert R * β < 1, \"Stability condition failed.\"\n",
        "\n",
        "    # Create savings grid\n",
        "    s_array = jnp.linspace(0, s_max, s_size)\n",
        "\n",
        "    # Generate income draws for Monte Carlo integration\n",
        "    key = jax.random.PRNGKey(seed)\n",
        "    z_draws = jax.random.normal(key, (y_size,))\n",
        "    y_draws = jnp.exp(μ + ν * z_draws)\n",
        "\n",
        "    # Return Model instance\n",
        "    return Model(\n",
        "        β=β, R=R, γ=γ, μ=μ, ν=ν, s_array=s_array, y_draws=y_draws\n",
        "    )"
      ]
    },
    {
      "cell_type": "markdown",
      "id": "c0993564",
      "metadata": {
        "id": "c0993564"
      },
      "source": [
        "## Solution method\n",
        "\n",
        "The state $a_t$ takes values in $\\mathbb R_+$.\n",
        "\n",
        "We aim to compute an optimal consumption policy $\\sigma^* \\colon S \\to S$, under which dynamics are given by\n",
        "\n",
        "$$\n",
        "    c_t = \\sigma^*(a_t)\n",
        "    \\quad \\text{and} \\quad\n",
        "    a_{t+1} = R (a_t - c_t) + Y_{t+1}\n",
        "$$"
      ]
    },
    {
      "cell_type": "markdown",
      "id": "99656463",
      "metadata": {
        "id": "99656463"
      },
      "source": [
        "### Euler equation\n",
        "\n",
        "The Euler equation for the optimization problem is\n",
        "\n",
        "$$\n",
        "u' (c_t)\n",
        "    = \\max\n",
        "    \\left\\{\n",
        "        \\beta R \\,  \\mathbb{E}_t  u'(c_{t+1})  \\,,\\;  u'(a_t)\n",
        "    \\right\\}\n",
        "$$\n",
        "\n",
        "(An explanation for this expression can be\n",
        "found [here](https://python.quantecon.org/ifp.html#value-function-and-euler-equation).)"
      ]
    },
    {
      "cell_type": "markdown",
      "id": "ae84fca0",
      "metadata": {
        "id": "ae84fca0"
      },
      "source": [
        "Let a consumption policy $\\sigma$ be given.\n",
        "\n",
        "Our task is to update it to the next guess.\n",
        "\n",
        "We fix an *exogenous* grid of current saving values $0 = s_0 < \\ldots < s_{N-1}$\n",
        "\n",
        "(Savings is related to assets and consumption by $s = a - c$.)\n",
        "\n",
        "Using the exogenous savings grid, we will create an\n",
        "\n",
        "1. a consumption grid $ c_0, \\ldots, c_{N-1} $ and\n",
        "2. *endogenous* asset grid $ a_0, \\ldots, a_{N-1}$\n",
        "\n",
        "such that these pairs satisfying the Euler equation.\n",
        "\n",
        "When then interpolate these pairs to obtain the new policy guess $\\sigma'$.\n",
        "\n",
        "Here are the steps:\n",
        "\n",
        "First we set $a_0 = c_0 = 0$.\n",
        "\n",
        "Then, for $i > 0$, we compute $c_i$ to obey the Euler condition\n",
        "\n",
        "$$\n",
        "    u'(c_i)\n",
        "    = \\beta R \\, \\mathbb E (u' \\circ \\sigma) \\, [R s_i + Y]\n",
        "$$\n",
        "\n",
        "Equivalently, we set\n",
        "\n",
        "$$\n",
        "    c_i\n",
        "    = (u')^{-1}\n",
        "    \\left\\{\n",
        "        \\beta R \\, \\mathbb E (u' \\circ \\sigma) \\, [R s_i + Y]\n",
        "     \\right\\}\n",
        "$$\n",
        "\n",
        "Lastly, we set\n",
        "\n",
        "$$\n",
        "    a_i = s_i + c_i, \\quad i = 1, 2, \\ldots, N-1\n",
        "$$"
      ]
    },
    {
      "cell_type": "markdown",
      "id": "e88a2e61",
      "metadata": {
        "id": "e88a2e61"
      },
      "source": [
        "The new policy $\\sigma'$ is formed by linearly interpolating the points $((a_i), (c_i))$.\n",
        "\n",
        "Notice that we avoided any nonlinear maximization or root-finding routine."
      ]
    },
    {
      "cell_type": "markdown",
      "id": "ad937160",
      "metadata": {
        "id": "ad937160"
      },
      "source": [
        "### Implementation"
      ]
    },
    {
      "cell_type": "markdown",
      "id": "c89db467",
      "metadata": {
        "id": "c89db467"
      },
      "source": [
        "Here's the policy update step.\n",
        "\n",
        "It reads in points $((a_i), (c_i))$ that are linearly interpolated into a policy\n",
        "$\\sigma$.\n",
        "\n",
        "It returns a new set of points $((a_i'), (c_i'))$ that represent the updated\n",
        "policy $\\sigma'$.\n"
      ]
    },
    {
      "cell_type": "code",
      "execution_count": 7,
      "id": "0d28f45f",
      "metadata": {
        "execution": {
          "iopub.execute_input": "2025-10-07T05:07:36.360824Z",
          "iopub.status.busy": "2025-10-07T05:07:36.360361Z",
          "iopub.status.idle": "2025-10-07T05:07:36.371054Z",
          "shell.execute_reply": "2025-10-07T05:07:36.369656Z"
        },
        "id": "0d28f45f"
      },
      "outputs": [],
      "source": [
        "@jax.jit\n",
        "def update_policy(a_in, c_in, model):\n",
        "    \"\"\"\n",
        "    The vectorized operator K using EGM.\n",
        "\n",
        "    \"\"\"\n",
        "\n",
        "    # Unpack\n",
        "    β, R, γ, μ, ν = model.β, model.R, model.γ, model.μ, model.ν\n",
        "    s_array = model.s_array\n",
        "    y_draws = model.y_draws\n",
        "\n",
        "    def u_prime(c):\n",
        "        return c**(-γ)\n",
        "\n",
        "    def u_prime_inv(u):\n",
        "            return u**(-1/γ)\n",
        "\n",
        "    # Linearly interpolate σ\n",
        "    def σ(a):\n",
        "        return jnp.interp(a, a_in, c_in)\n",
        "\n",
        "    # Define a function for computing E (u'(σ(Rs + Y)))\n",
        "    def expectation(s):\n",
        "        a_next = R * s + y_draws\n",
        "        c_next = σ(a_next)\n",
        "        return jnp.mean(u_prime(c_next))\n",
        "\n",
        "    # Vectorize and compute E (u'(σ(Rs + Y))) at all s\n",
        "    exp_term = jax.vmap(expectation)(s_array)\n",
        "    # Corresponding consumption\n",
        "    c = u_prime_inv(β * R * exp_term)\n",
        "\n",
        "    # The policy is computed consumption with the first element set to zero\n",
        "    c_out = c.at[0].set(0.0)\n",
        "    # a = s + c\n",
        "    a_out = s_array + c_out\n",
        "\n",
        "    return a_out, c_out  # Interpolate to get σ'"
      ]
    },
    {
      "cell_type": "markdown",
      "id": "b0b8a35a",
      "metadata": {
        "id": "b0b8a35a"
      },
      "source": [
        "Next we define a successive approximator that repeatedly updates the policy\n",
        "using the endogenous grid method."
      ]
    },
    {
      "cell_type": "code",
      "execution_count": 8,
      "id": "abff5074",
      "metadata": {
        "execution": {
          "iopub.execute_input": "2025-10-07T05:07:36.374965Z",
          "iopub.status.busy": "2025-10-07T05:07:36.374501Z",
          "iopub.status.idle": "2025-10-07T05:07:36.382929Z",
          "shell.execute_reply": "2025-10-07T05:07:36.381726Z"
        },
        "id": "abff5074"
      },
      "outputs": [],
      "source": [
        "def egm_solve(model,\n",
        "              tol=1e-5,\n",
        "              max_iter=100_000,\n",
        "              verbose=True,\n",
        "              print_skip=25\n",
        "    ):\n",
        "\n",
        "    # Initial condition is to consume all in every state\n",
        "    c_vec = model.s_array\n",
        "    a_vec = model.s_array\n",
        "    i = 0\n",
        "    error = tol + 1\n",
        "\n",
        "    while i < max_iter and error > tol:\n",
        "        a_new, c_new = update_policy(a_vec, c_vec, model)\n",
        "        error = jnp.max(jnp.abs(c_vec - c_new))\n",
        "        i += 1\n",
        "        if verbose and i % print_skip == 0:\n",
        "            print(f\"Error at iteration {i} is {error}.\")\n",
        "        a_vec, c_vec = a_new, c_new\n",
        "\n",
        "    if error > tol:\n",
        "        print(\"Failed to converge!\")\n",
        "    else:\n",
        "        print(f\"\\nConverged in {i} iterations.\")\n",
        "\n",
        "    return a_new, c_new"
      ]
    },
    {
      "cell_type": "markdown",
      "id": "40e0f2e2",
      "metadata": {
        "id": "40e0f2e2"
      },
      "source": [
        "Here's an alternative jit-compiled version of the same function."
      ]
    },
    {
      "cell_type": "code",
      "execution_count": 9,
      "id": "985adef1",
      "metadata": {
        "execution": {
          "iopub.execute_input": "2025-10-07T05:07:36.386829Z",
          "iopub.status.busy": "2025-10-07T05:07:36.386375Z",
          "iopub.status.idle": "2025-10-07T05:07:36.395533Z",
          "shell.execute_reply": "2025-10-07T05:07:36.394283Z"
        },
        "id": "985adef1"
      },
      "outputs": [],
      "source": [
        "@jax.jit\n",
        "def egm_solve_fast(\n",
        "        model,\n",
        "        tol=1e-5,\n",
        "        max_iter=100_000\n",
        "    ):\n",
        "\n",
        "    c_vec = model.s_array\n",
        "    a_vec = model.s_array\n",
        "    i = 0\n",
        "    error = tol + 1\n",
        "\n",
        "    def update(loop_state):\n",
        "        i, error, a_vec, c_vec = loop_state\n",
        "        a_new, c_new = update_policy(a_vec, c_vec, model)\n",
        "        error = jnp.max(jnp.abs(c_vec - c_new))\n",
        "        i += 1\n",
        "        return i, error, a_new, c_new\n",
        "\n",
        "    def test(loop_state):\n",
        "        i, error, a_vec, c_vec = loop_state\n",
        "        return jnp.logical_and(i < max_iter, error > tol)\n",
        "\n",
        "    initial_loop_state = i, error, a_vec, c_vec\n",
        "    final_loop_state = jax.lax.while_loop(test, update, initial_loop_state)\n",
        "    i, error, a_star, c_star = final_loop_state\n",
        "\n",
        "    return a_star, c_star"
      ]
    },
    {
      "cell_type": "markdown",
      "id": "9e9a85e3",
      "metadata": {
        "id": "9e9a85e3"
      },
      "source": [
        "## Solutions\n",
        "\n",
        "Here we solve the income fluctuation using the endogenous grid method.\n",
        "\n"
      ]
    },
    {
      "cell_type": "code",
      "execution_count": 10,
      "id": "1f6ed8bc",
      "metadata": {
        "execution": {
          "iopub.execute_input": "2025-10-07T05:07:36.399404Z",
          "iopub.status.busy": "2025-10-07T05:07:36.398966Z",
          "iopub.status.idle": "2025-10-07T05:07:37.115699Z",
          "shell.execute_reply": "2025-10-07T05:07:37.115323Z"
        },
        "id": "1f6ed8bc"
      },
      "outputs": [],
      "source": [
        "model = create_model()"
      ]
    },
    {
      "cell_type": "code",
      "execution_count": 11,
      "id": "b66ad101",
      "metadata": {
        "execution": {
          "iopub.execute_input": "2025-10-07T05:07:37.117051Z",
          "iopub.status.busy": "2025-10-07T05:07:37.116924Z",
          "iopub.status.idle": "2025-10-07T05:07:37.817984Z",
          "shell.execute_reply": "2025-10-07T05:07:37.817667Z"
        },
        "id": "b66ad101",
        "outputId": "00a717c9-6589-4930-dab3-b2c708db177a",
        "colab": {
          "base_uri": "https://localhost:8080/"
        }
      },
      "outputs": [
        {
          "output_type": "stream",
          "name": "stdout",
          "text": [
            "Error at iteration 25 is 0.02526359346876883.\n",
            "Error at iteration 50 is 0.005036757757771793.\n",
            "Error at iteration 75 is 0.0014668883315895886.\n",
            "Error at iteration 100 is 0.0003401437078146552.\n",
            "Error at iteration 125 is 2.6048835631731215e-05.\n",
            "\n",
            "Converged in 132 iterations.\n",
            "CPU times: user 676 ms, sys: 120 ms, total: 795 ms\n",
            "Wall time: 1.21 s\n"
          ]
        }
      ],
      "source": [
        "%%time\n",
        "\n",
        "a_star, c_star = egm_solve(model)"
      ]
    },
    {
      "cell_type": "code",
      "execution_count": 12,
      "id": "34e02a2d",
      "metadata": {
        "execution": {
          "iopub.execute_input": "2025-10-07T05:07:37.819111Z",
          "iopub.status.busy": "2025-10-07T05:07:37.818985Z",
          "iopub.status.idle": "2025-10-07T05:07:38.066255Z",
          "shell.execute_reply": "2025-10-07T05:07:38.065934Z"
        },
        "id": "34e02a2d",
        "outputId": "810e46b4-8c58-4428-a91a-7b6eaf03d6f8",
        "colab": {
          "base_uri": "https://localhost:8080/"
        }
      },
      "outputs": [
        {
          "output_type": "stream",
          "name": "stdout",
          "text": [
            "Error at iteration 25 is 0.02526359346876883.\n",
            "Error at iteration 50 is 0.005036757757771793.\n",
            "Error at iteration 75 is 0.0014668883315895886.\n",
            "Error at iteration 100 is 0.0003401437078146552.\n",
            "Error at iteration 125 is 2.6048835631731215e-05.\n",
            "\n",
            "Converged in 132 iterations.\n",
            "CPU times: user 245 ms, sys: 32.6 ms, total: 277 ms\n",
            "Wall time: 577 ms\n"
          ]
        }
      ],
      "source": [
        "%%time\n",
        "\n",
        "a_star, c_star = egm_solve(model)"
      ]
    },
    {
      "cell_type": "code",
      "execution_count": 13,
      "id": "1ce8427d",
      "metadata": {
        "execution": {
          "iopub.execute_input": "2025-10-07T05:07:38.067328Z",
          "iopub.status.busy": "2025-10-07T05:07:38.067207Z",
          "iopub.status.idle": "2025-10-07T05:07:38.527295Z",
          "shell.execute_reply": "2025-10-07T05:07:38.526890Z"
        },
        "id": "1ce8427d",
        "outputId": "17a7f4e3-ae7b-4826-ff22-074dfae975b7",
        "colab": {
          "base_uri": "https://localhost:8080/"
        }
      },
      "outputs": [
        {
          "output_type": "stream",
          "name": "stdout",
          "text": [
            "CPU times: user 822 ms, sys: 14.5 ms, total: 837 ms\n",
            "Wall time: 925 ms\n"
          ]
        },
        {
          "output_type": "execute_result",
          "data": {
            "text/plain": [
              "Array([ 0.        ,  0.37041123,  0.41823472,  0.4616356 ,  0.50190367,\n",
              "        0.5403914 ,  0.57783389,  0.61456415,  0.65077869,  0.68660172,\n",
              "        0.72211743,  0.75738579,  0.79245023,  0.82734348,  0.86209098,\n",
              "        0.89671287,  0.93122518,  0.96564095,  0.99997099,  1.03422435,\n",
              "        1.06840861,  1.10253033,  1.13659506,  1.17060767,  1.20457236,\n",
              "        1.23849283,  1.27237234,  1.30621381,  1.34001981,  1.37379265,\n",
              "        1.40753443,  1.44124702,  1.47493213,  1.50859131,  1.54222597,\n",
              "        1.57583743,  1.60942687,  1.64299538,  1.67654397,  1.71007358,\n",
              "        1.74358508,  1.77707926,  1.81055688,  1.84401863,  1.87746517,\n",
              "        1.9108971 ,  1.944315  ,  1.9777194 ,  2.01111081,  2.04448969,\n",
              "        2.07785651,  2.11121168,  2.14455559,  2.17788863,  2.21121114,\n",
              "        2.24452348,  2.27782595,  2.31111887,  2.34440253,  2.3776772 ,\n",
              "        2.41094314,  2.4442006 ,  2.47744983,  2.51069106,  2.54392449,\n",
              "        2.57715035,  2.61036883,  2.64358012,  2.6767844 ,  2.70998186,\n",
              "        2.74317266,  2.77635697,  2.80953494,  2.84270672,  2.87587246,\n",
              "        2.9090323 ,  2.94218637,  2.97533479,  3.00847771,  3.04161522,\n",
              "        3.07474746,  3.10787453,  3.14099655,  3.17411361,  3.20722582,\n",
              "        3.24033327,  3.27343607,  3.30653431,  3.33962806,  3.37271743,\n",
              "        3.40580248,  3.43888331,  3.47196   ,  3.50503261,  3.53810122,\n",
              "        3.57116591,  3.60422675,  3.63728379,  3.67033712,  3.70338679,\n",
              "        3.73643286,  3.7694754 ,  3.80251447,  3.83555011,  3.8685824 ,\n",
              "        3.90161138,  3.93463711,  3.96765963,  4.000679  ,  4.03369528,\n",
              "        4.06670849,  4.0997187 ,  4.13272595,  4.16573028,  4.19873174,\n",
              "        4.23173036,  4.2647262 ,  4.29771929,  4.33070967,  4.36369738,\n",
              "        4.39668245,  4.42966493,  4.46264486,  4.49562225,  4.52859716,\n",
              "        4.56156961,  4.59453964,  4.62750728,  4.66047256,  4.69343551,\n",
              "        4.72639617,  4.75935455,  4.7923107 ,  4.82526464,  4.8582164 ,\n",
              "        4.89116601,  4.92411349,  4.95705886,  4.99000217,  5.02294342,\n",
              "        5.05588265,  5.08881988,  5.12175513,  5.15468843,  5.1876198 ,\n",
              "        5.22054926,  5.25347684,  5.28640255,  5.31932642,  5.35224847,\n",
              "        5.38516873,  5.4180872 ,  5.45100391,  5.48391888,  5.51683213,\n",
              "        5.54974367,  5.58265353,  5.61556173,  5.64846828,  5.6813732 ,\n",
              "        5.7142765 ,  5.74717821,  5.78007834,  5.81297691,  5.84587393,\n",
              "        5.87876943,  5.9116634 ,  5.94455588,  5.97744687,  6.01033639,\n",
              "        6.04322446,  6.07611109,  6.10899629,  6.14188008,  6.17476248,\n",
              "        6.20764349,  6.24052312,  6.2734014 ,  6.30627834,  6.33915394,\n",
              "        6.37202822,  6.4049012 ,  6.43777288,  6.47064328,  6.50351241,\n",
              "        6.53638028,  6.5692469 ,  6.60211228,  6.63497644,  6.66783939,\n",
              "        6.70070113,  6.73356168,  6.76642105,  6.79927925,  6.83213628,\n",
              "        6.86499217,  6.89784691,  6.93070053,  6.96355302,  6.9964044 ,\n",
              "        7.02925468,  7.06210387,  7.09495197,  7.127799  ,  7.16064497,\n",
              "        7.19348988,  7.22633374,  7.25917656,  7.29201835,  7.32485912,\n",
              "        7.35769888,  7.39053763,  7.42337539,  7.45621215,  7.48904794,\n",
              "        7.52188275,  7.55471659,  7.58754948,  7.62038141,  7.65321241,\n",
              "        7.68604247,  7.7188716 ,  7.7516998 ,  7.7845271 ,  7.81735348,\n",
              "        7.85017897,  7.88300356,  7.91582727,  7.9486501 ,  7.98147205,\n",
              "        8.01429314,  8.04711337,  8.07993274,  8.11275126,  8.14556895,\n",
              "        8.1783858 ,  8.21120182,  8.24401701,  8.27683139,  8.30964496,\n",
              "        8.34245772,  8.37526969,  8.40808086,  8.44089124,  8.47370084,\n",
              "        8.50650966,  8.53931771,  8.57212499,  8.60493151,  8.63773728,\n",
              "        8.6705423 ,  8.70334657,  8.7361501 ,  8.76895289,  8.80175496,\n",
              "        8.8345563 ,  8.86735692,  8.90015682,  8.93295602,  8.96575451,\n",
              "        8.99855229,  9.03134938,  9.06414578,  9.09694149,  9.12973652,\n",
              "        9.16253087,  9.19532455,  9.22811756,  9.2609099 ,  9.29370158,\n",
              "        9.32649261,  9.35928298,  9.3920727 ,  9.42486178,  9.45765022,\n",
              "        9.49043803,  9.5232252 ,  9.55601174,  9.58879766,  9.62158297,\n",
              "        9.65436765,  9.68715172,  9.71993519,  9.75271805,  9.7855003 ,\n",
              "        9.81828196,  9.85106303,  9.88384351,  9.9166234 ,  9.9494027 ,\n",
              "        9.98218143, 10.01495958, 10.04773716, 10.08051417, 10.11329062,\n",
              "       10.1460665 , 10.17884182, 10.21161659, 10.2443908 , 10.27716447,\n",
              "       10.30993759, 10.34271017, 10.3754822 , 10.4082537 , 10.44102467,\n",
              "       10.47379511, 10.50656502, 10.53933441, 10.57210327, 10.60487162,\n",
              "       10.63763945, 10.67040677, 10.70317358, 10.73593988, 10.76870568,\n",
              "       10.80147098, 10.83423578, 10.86700008, 10.89976389, 10.93252722,\n",
              "       10.96529005, 10.9980524 , 11.03081427, 11.06357566, 11.09633657,\n",
              "       11.12909701, 11.16185698, 11.19461648, 11.22737552, 11.26013409,\n",
              "       11.29289219, 11.32564984, 11.35840704, 11.39116378, 11.42392007,\n",
              "       11.45667591, 11.4894313 , 11.52218625, 11.55494076, 11.58769482,\n",
              "       11.62044845, 11.65320165, 11.68595441, 11.71870674, 11.75145865,\n",
              "       11.78421013, 11.81696118, 11.84971182, 11.88246203, 11.91521183,\n",
              "       11.94796121, 11.98071018, 12.01345874, 12.04620689, 12.07895463,\n",
              "       12.11170197, 12.14444891, 12.17719544, 12.20994158, 12.24268732,\n",
              "       12.27543267, 12.30817762, 12.34092219, 12.37366636, 12.40641015,\n",
              "       12.43915356, 12.47189658, 12.50463922, 12.53738148, 12.57012337,\n",
              "       12.60286488, 12.63560602, 12.66834678, 12.70108718, 12.73382721,\n",
              "       12.76656687, 12.79930617, 12.8320451 , 12.86478368, 12.89752189,\n",
              "       12.93025975, 12.96299725, 12.9957344 , 13.0284712 , 13.06120765,\n",
              "       13.09394375, 13.1266795 , 13.1594149 , 13.19214997, 13.22488469,\n",
              "       13.25761907, 13.29035311, 13.32308681, 13.35582018, 13.38855321,\n",
              "       13.42128592, 13.45401829, 13.48675033, 13.51948204, 13.55221343,\n",
              "       13.58494449, 13.61767523, 13.65040565, 13.68313575, 13.71586553,\n",
              "       13.74859499, 13.78132414, 13.81405297, 13.84678149, 13.8795097 ,\n",
              "       13.9122376 , 13.94496519, 13.97769248, 14.01041945, 14.04314613,\n",
              "       14.0758725 , 14.10859857, 14.14132434, 14.17404981, 14.20677499,\n",
              "       14.23949986, 14.27222445, 14.30494874, 14.33767274, 14.37039645,\n",
              "       14.40311987, 14.435843  , 14.46856585, 14.50128841, 14.53401068,\n",
              "       14.56673268, 14.59945439, 14.63217582, 14.66489698, 14.69761785,\n",
              "       14.73033845, 14.76305878, 14.79577883, 14.82849861, 14.86121812,\n",
              "       14.89393736, 14.92665633, 14.95937503, 14.99209347, 15.02481164,\n",
              "       15.05752954, 15.09024719, 15.12296457, 15.15568169, 15.18839856,\n",
              "       15.22111516, 15.25383151, 15.2865476 , 15.31926344, 15.35197902,\n",
              "       15.38469436, 15.41740944, 15.45012427, 15.48283885, 15.51555319,\n",
              "       15.54826728, 15.58098112, 15.61369472, 15.64640807, 15.67912119,\n",
              "       15.71183406, 15.74454669, 15.77725909, 15.80997124, 15.84268316,\n",
              "       15.87539485, 15.9081063 , 15.94081751, 15.9735285 , 16.00623925,\n",
              "       16.03894977, 16.07166006, 16.10437013, 16.13707996, 16.16978958,\n",
              "       16.20249896, 16.23520812, 16.26791706, 16.30062578, 16.33333428,\n",
              "       16.36604255, 16.39875061, 16.43145845, 16.46416607, 16.49687348,\n",
              "       16.52958067, 16.56228765, 16.59499441, 16.62770096, 16.6604073 ,\n",
              "       16.69311344, 16.72581927, 16.75852464, 16.79122952, 16.8239336 ],      dtype=float64)"
            ]
          },
          "metadata": {},
          "execution_count": 13
        }
      ],
      "source": [
        "%%time\n",
        "\n",
        "a_star, c_star = egm_solve_fast(model)\n",
        "jax.block_until_ready(a_star);"
      ]
    },
    {
      "cell_type": "code",
      "execution_count": 14,
      "id": "bd8ad724",
      "metadata": {
        "execution": {
          "iopub.execute_input": "2025-10-07T05:07:38.528572Z",
          "iopub.status.busy": "2025-10-07T05:07:38.528448Z",
          "iopub.status.idle": "2025-10-07T05:07:38.699991Z",
          "shell.execute_reply": "2025-10-07T05:07:38.699515Z"
        },
        "id": "bd8ad724",
        "outputId": "5dceb71d-6f3d-460d-c253-0b3e029c1de0",
        "colab": {
          "base_uri": "https://localhost:8080/"
        }
      },
      "outputs": [
        {
          "output_type": "stream",
          "name": "stdout",
          "text": [
            "CPU times: user 495 ms, sys: 939 µs, total: 496 ms\n",
            "Wall time: 495 ms\n"
          ]
        },
        {
          "output_type": "execute_result",
          "data": {
            "text/plain": [
              "Array([ 0.        ,  0.37041123,  0.41823472,  0.4616356 ,  0.50190367,\n",
              "        0.5403914 ,  0.57783389,  0.61456415,  0.65077869,  0.68660172,\n",
              "        0.72211743,  0.75738579,  0.79245023,  0.82734348,  0.86209098,\n",
              "        0.89671287,  0.93122518,  0.96564095,  0.99997099,  1.03422435,\n",
              "        1.06840861,  1.10253033,  1.13659506,  1.17060767,  1.20457236,\n",
              "        1.23849283,  1.27237234,  1.30621381,  1.34001981,  1.37379265,\n",
              "        1.40753443,  1.44124702,  1.47493213,  1.50859131,  1.54222597,\n",
              "        1.57583743,  1.60942687,  1.64299538,  1.67654397,  1.71007358,\n",
              "        1.74358508,  1.77707926,  1.81055688,  1.84401863,  1.87746517,\n",
              "        1.9108971 ,  1.944315  ,  1.9777194 ,  2.01111081,  2.04448969,\n",
              "        2.07785651,  2.11121168,  2.14455559,  2.17788863,  2.21121114,\n",
              "        2.24452348,  2.27782595,  2.31111887,  2.34440253,  2.3776772 ,\n",
              "        2.41094314,  2.4442006 ,  2.47744983,  2.51069106,  2.54392449,\n",
              "        2.57715035,  2.61036883,  2.64358012,  2.6767844 ,  2.70998186,\n",
              "        2.74317266,  2.77635697,  2.80953494,  2.84270672,  2.87587246,\n",
              "        2.9090323 ,  2.94218637,  2.97533479,  3.00847771,  3.04161522,\n",
              "        3.07474746,  3.10787453,  3.14099655,  3.17411361,  3.20722582,\n",
              "        3.24033327,  3.27343607,  3.30653431,  3.33962806,  3.37271743,\n",
              "        3.40580248,  3.43888331,  3.47196   ,  3.50503261,  3.53810122,\n",
              "        3.57116591,  3.60422675,  3.63728379,  3.67033712,  3.70338679,\n",
              "        3.73643286,  3.7694754 ,  3.80251447,  3.83555011,  3.8685824 ,\n",
              "        3.90161138,  3.93463711,  3.96765963,  4.000679  ,  4.03369528,\n",
              "        4.06670849,  4.0997187 ,  4.13272595,  4.16573028,  4.19873174,\n",
              "        4.23173036,  4.2647262 ,  4.29771929,  4.33070967,  4.36369738,\n",
              "        4.39668245,  4.42966493,  4.46264486,  4.49562225,  4.52859716,\n",
              "        4.56156961,  4.59453964,  4.62750728,  4.66047256,  4.69343551,\n",
              "        4.72639617,  4.75935455,  4.7923107 ,  4.82526464,  4.8582164 ,\n",
              "        4.89116601,  4.92411349,  4.95705886,  4.99000217,  5.02294342,\n",
              "        5.05588265,  5.08881988,  5.12175513,  5.15468843,  5.1876198 ,\n",
              "        5.22054926,  5.25347684,  5.28640255,  5.31932642,  5.35224847,\n",
              "        5.38516873,  5.4180872 ,  5.45100391,  5.48391888,  5.51683213,\n",
              "        5.54974367,  5.58265353,  5.61556173,  5.64846828,  5.6813732 ,\n",
              "        5.7142765 ,  5.74717821,  5.78007834,  5.81297691,  5.84587393,\n",
              "        5.87876943,  5.9116634 ,  5.94455588,  5.97744687,  6.01033639,\n",
              "        6.04322446,  6.07611109,  6.10899629,  6.14188008,  6.17476248,\n",
              "        6.20764349,  6.24052312,  6.2734014 ,  6.30627834,  6.33915394,\n",
              "        6.37202822,  6.4049012 ,  6.43777288,  6.47064328,  6.50351241,\n",
              "        6.53638028,  6.5692469 ,  6.60211228,  6.63497644,  6.66783939,\n",
              "        6.70070113,  6.73356168,  6.76642105,  6.79927925,  6.83213628,\n",
              "        6.86499217,  6.89784691,  6.93070053,  6.96355302,  6.9964044 ,\n",
              "        7.02925468,  7.06210387,  7.09495197,  7.127799  ,  7.16064497,\n",
              "        7.19348988,  7.22633374,  7.25917656,  7.29201835,  7.32485912,\n",
              "        7.35769888,  7.39053763,  7.42337539,  7.45621215,  7.48904794,\n",
              "        7.52188275,  7.55471659,  7.58754948,  7.62038141,  7.65321241,\n",
              "        7.68604247,  7.7188716 ,  7.7516998 ,  7.7845271 ,  7.81735348,\n",
              "        7.85017897,  7.88300356,  7.91582727,  7.9486501 ,  7.98147205,\n",
              "        8.01429314,  8.04711337,  8.07993274,  8.11275126,  8.14556895,\n",
              "        8.1783858 ,  8.21120182,  8.24401701,  8.27683139,  8.30964496,\n",
              "        8.34245772,  8.37526969,  8.40808086,  8.44089124,  8.47370084,\n",
              "        8.50650966,  8.53931771,  8.57212499,  8.60493151,  8.63773728,\n",
              "        8.6705423 ,  8.70334657,  8.7361501 ,  8.76895289,  8.80175496,\n",
              "        8.8345563 ,  8.86735692,  8.90015682,  8.93295602,  8.96575451,\n",
              "        8.99855229,  9.03134938,  9.06414578,  9.09694149,  9.12973652,\n",
              "        9.16253087,  9.19532455,  9.22811756,  9.2609099 ,  9.29370158,\n",
              "        9.32649261,  9.35928298,  9.3920727 ,  9.42486178,  9.45765022,\n",
              "        9.49043803,  9.5232252 ,  9.55601174,  9.58879766,  9.62158297,\n",
              "        9.65436765,  9.68715172,  9.71993519,  9.75271805,  9.7855003 ,\n",
              "        9.81828196,  9.85106303,  9.88384351,  9.9166234 ,  9.9494027 ,\n",
              "        9.98218143, 10.01495958, 10.04773716, 10.08051417, 10.11329062,\n",
              "       10.1460665 , 10.17884182, 10.21161659, 10.2443908 , 10.27716447,\n",
              "       10.30993759, 10.34271017, 10.3754822 , 10.4082537 , 10.44102467,\n",
              "       10.47379511, 10.50656502, 10.53933441, 10.57210327, 10.60487162,\n",
              "       10.63763945, 10.67040677, 10.70317358, 10.73593988, 10.76870568,\n",
              "       10.80147098, 10.83423578, 10.86700008, 10.89976389, 10.93252722,\n",
              "       10.96529005, 10.9980524 , 11.03081427, 11.06357566, 11.09633657,\n",
              "       11.12909701, 11.16185698, 11.19461648, 11.22737552, 11.26013409,\n",
              "       11.29289219, 11.32564984, 11.35840704, 11.39116378, 11.42392007,\n",
              "       11.45667591, 11.4894313 , 11.52218625, 11.55494076, 11.58769482,\n",
              "       11.62044845, 11.65320165, 11.68595441, 11.71870674, 11.75145865,\n",
              "       11.78421013, 11.81696118, 11.84971182, 11.88246203, 11.91521183,\n",
              "       11.94796121, 11.98071018, 12.01345874, 12.04620689, 12.07895463,\n",
              "       12.11170197, 12.14444891, 12.17719544, 12.20994158, 12.24268732,\n",
              "       12.27543267, 12.30817762, 12.34092219, 12.37366636, 12.40641015,\n",
              "       12.43915356, 12.47189658, 12.50463922, 12.53738148, 12.57012337,\n",
              "       12.60286488, 12.63560602, 12.66834678, 12.70108718, 12.73382721,\n",
              "       12.76656687, 12.79930617, 12.8320451 , 12.86478368, 12.89752189,\n",
              "       12.93025975, 12.96299725, 12.9957344 , 13.0284712 , 13.06120765,\n",
              "       13.09394375, 13.1266795 , 13.1594149 , 13.19214997, 13.22488469,\n",
              "       13.25761907, 13.29035311, 13.32308681, 13.35582018, 13.38855321,\n",
              "       13.42128592, 13.45401829, 13.48675033, 13.51948204, 13.55221343,\n",
              "       13.58494449, 13.61767523, 13.65040565, 13.68313575, 13.71586553,\n",
              "       13.74859499, 13.78132414, 13.81405297, 13.84678149, 13.8795097 ,\n",
              "       13.9122376 , 13.94496519, 13.97769248, 14.01041945, 14.04314613,\n",
              "       14.0758725 , 14.10859857, 14.14132434, 14.17404981, 14.20677499,\n",
              "       14.23949986, 14.27222445, 14.30494874, 14.33767274, 14.37039645,\n",
              "       14.40311987, 14.435843  , 14.46856585, 14.50128841, 14.53401068,\n",
              "       14.56673268, 14.59945439, 14.63217582, 14.66489698, 14.69761785,\n",
              "       14.73033845, 14.76305878, 14.79577883, 14.82849861, 14.86121812,\n",
              "       14.89393736, 14.92665633, 14.95937503, 14.99209347, 15.02481164,\n",
              "       15.05752954, 15.09024719, 15.12296457, 15.15568169, 15.18839856,\n",
              "       15.22111516, 15.25383151, 15.2865476 , 15.31926344, 15.35197902,\n",
              "       15.38469436, 15.41740944, 15.45012427, 15.48283885, 15.51555319,\n",
              "       15.54826728, 15.58098112, 15.61369472, 15.64640807, 15.67912119,\n",
              "       15.71183406, 15.74454669, 15.77725909, 15.80997124, 15.84268316,\n",
              "       15.87539485, 15.9081063 , 15.94081751, 15.9735285 , 16.00623925,\n",
              "       16.03894977, 16.07166006, 16.10437013, 16.13707996, 16.16978958,\n",
              "       16.20249896, 16.23520812, 16.26791706, 16.30062578, 16.33333428,\n",
              "       16.36604255, 16.39875061, 16.43145845, 16.46416607, 16.49687348,\n",
              "       16.52958067, 16.56228765, 16.59499441, 16.62770096, 16.6604073 ,\n",
              "       16.69311344, 16.72581927, 16.75852464, 16.79122952, 16.8239336 ],      dtype=float64)"
            ]
          },
          "metadata": {},
          "execution_count": 14
        }
      ],
      "source": [
        "%%time\n",
        "\n",
        "a_star, c_star = egm_solve_fast(model)\n",
        "jax.block_until_ready(a_star);"
      ]
    },
    {
      "cell_type": "markdown",
      "id": "15f473ba",
      "metadata": {
        "id": "15f473ba"
      },
      "source": [
        "Let's view the policies in a plot."
      ]
    },
    {
      "cell_type": "code",
      "execution_count": 15,
      "id": "36e99752",
      "metadata": {
        "execution": {
          "iopub.execute_input": "2025-10-07T05:07:38.701482Z",
          "iopub.status.busy": "2025-10-07T05:07:38.701301Z",
          "iopub.status.idle": "2025-10-07T05:07:38.801560Z",
          "shell.execute_reply": "2025-10-07T05:07:38.801133Z"
        },
        "id": "36e99752",
        "outputId": "40b1d863-b6fa-41e3-a515-d39e2f2b3cea",
        "colab": {
          "base_uri": "https://localhost:8080/",
          "height": 452
        }
      },
      "outputs": [
        {
          "output_type": "display_data",
          "data": {
            "text/plain": [
              "<Figure size 640x480 with 1 Axes>"
            ],
            "image/png": "[encoded data removed]"
          },
          "metadata": {}
        }
      ],
      "source": [
        "s_star = a_star - c_star\n",
        "\n",
        "fig, ax = plt.subplots()\n",
        "ax.plot(\n",
        "   a_star,\n",
        "   c_star,\n",
        "   label=\"consumption policy\"\n",
        ")\n",
        "ax.plot(\n",
        "   a_star,\n",
        "   s_star,\n",
        "   label=\"savings policy\"\n",
        ")\n",
        "ax.plot(a_star, a_star, 'k--', alpha=0.5, label=\"45 degree line\")\n",
        "ax.set_xlabel('assets')\n",
        "ax.set_ylabel('consumption / savings')\n",
        "plt.legend()\n",
        "plt.show()"
      ]
    },
    {
      "cell_type": "markdown",
      "id": "5c4c1156",
      "metadata": {
        "id": "5c4c1156"
      },
      "source": [
        "## Simulation\n",
        "\n",
        "Having computed the optimal consumption policy, we can now simulate the model forward.\n",
        "\n",
        "We start by simulating a single household over time to see how consumption and assets\n",
        "evolve in response to random income shocks.\n",
        "\n",
        "The household uses the optimal policy $\\sigma^*$ to choose consumption at each date,\n",
        "given current assets:\n",
        "\n",
        "$$\n",
        "    c_t = \\sigma^*(a_t)\n",
        "$$\n",
        "\n",
        "Assets then evolve according to\n",
        "\n",
        "$$\n",
        "    a_{t+1} = R(a_t - c_t) + Y_{t+1}\n",
        "$$\n",
        "\n",
        "where $Y_{t+1}$ is the random income realization."
      ]
    },
    {
      "cell_type": "code",
      "execution_count": 18,
      "id": "9c606fd4",
      "metadata": {
        "execution": {
          "iopub.execute_input": "2025-10-07T05:07:38.802911Z",
          "iopub.status.busy": "2025-10-07T05:07:38.802746Z",
          "iopub.status.idle": "2025-10-07T05:07:39.868569Z",
          "shell.execute_reply": "2025-10-07T05:07:39.868051Z"
        },
        "id": "9c606fd4",
        "outputId": "15aa8522-bcb8-4652-a8f2-5254c8857cc3",
        "colab": {
          "base_uri": "https://localhost:8080/",
          "height": 607
        }
      },
      "outputs": [
        {
          "output_type": "display_data",
          "data": {
            "text/plain": [
              "<Figure size 600x600 with 2 Axes>"
            ],
            "image/png": "[encoded data removed]"
          },
          "metadata": {}
        }
      ],
      "source": [
        "def simulate(model, a_grid, c_policy, a_0=1.0, T=100, seed=123):\n",
        "    \"\"\"\n",
        "    Simulate the optimal consumption path.\n",
        "\n",
        "    Parameters:\n",
        "    -----------\n",
        "    model : Model\n",
        "        The model instance\n",
        "    a_grid : array\n",
        "        Grid of asset values from solution\n",
        "    c_policy : array\n",
        "        Optimal consumption policy on the grid\n",
        "    a_0 : float\n",
        "        Initial asset level\n",
        "    T : int\n",
        "        Number of periods to simulate\n",
        "    seed : int\n",
        "        Random seed for income shocks\n",
        "    \"\"\"\n",
        "\n",
        "    # Generate income shocks for simulation\n",
        "    key = jax.random.PRNGKey(seed)\n",
        "    z_sim = jax.random.normal(key, (T,))\n",
        "    y_sim = jnp.exp(model.μ + model.ν * z_sim)\n",
        "\n",
        "    # Initialize arrays\n",
        "    a_path = jnp.zeros(T+1)\n",
        "    c_path = jnp.zeros(T)\n",
        "\n",
        "    a_path = a_path.at[0].set(a_0)\n",
        "\n",
        "    # Simulate forward\n",
        "    for t in range(T):\n",
        "        # Interpolate consumption policy\n",
        "        c_t = jnp.interp(a_path[t], a_grid, c_policy)\n",
        "        c_path = c_path.at[t].set(c_t)\n",
        "\n",
        "        # Update assets\n",
        "        s_t = a_path[t] - c_t\n",
        "        a_path = a_path.at[t+1].set(model.R * s_t + y_sim[t])\n",
        "\n",
        "    return a_path, c_path, y_sim\n",
        "\n",
        "# Run simulation\n",
        "a_path, c_path, y_path = simulate(model, a_star, c_star)\n",
        "\n",
        "# Plot results\n",
        "fig, (ax1, ax2) = plt.subplots(2, 1, figsize=(6, 6))\n",
        "\n",
        "# Plot consumption and income\n",
        "ax1.plot(c_path, label='consumption')\n",
        "ax1.plot(y_path, alpha=0.5, label='income')\n",
        "ax1.set_xlabel('time')\n",
        "ax1.set_ylabel('value')\n",
        "ax1.set_title('Consumption and Income Over Time')\n",
        "ax1.legend()\n",
        "\n",
        "# Plot assets\n",
        "ax2.plot(a_path)\n",
        "ax2.set_xlabel('time')\n",
        "ax2.set_ylabel('assets')\n",
        "ax2.set_title('Asset Evolution')\n",
        "\n",
        "plt.tight_layout()\n",
        "plt.show()"
      ]
    },
    {
      "cell_type": "markdown",
      "id": "2d793480",
      "metadata": {
        "id": "2d793480"
      },
      "source": [
        "## Cross-sectional distribution\n",
        "\n",
        "The plot above shows the time series for a single household.\n",
        "\n",
        "Now let's simulate a large cross-section of households to study the stationary\n",
        "wealth distribution.\n",
        "\n",
        "We simulate $N = 5_000$ households forward for $T = 500$ periods.\n",
        "\n",
        "All households start with the same initial assets but face independent income\n",
        "shocks drawn from the lognormal distribution.\n",
        "\n",
        "Each household follows the same optimal policy $\\sigma^*$, but the different\n",
        "income realizations lead to heterogeneity in the wealth distribution.\n",
        "\n",
        "The final cross-section of assets provides an approximation to the stationary\n",
        "distribution of wealth under the optimal policy.\n"
      ]
    },
    {
      "cell_type": "code",
      "execution_count": 19,
      "id": "9b15cd8c",
      "metadata": {
        "execution": {
          "iopub.execute_input": "2025-10-07T05:07:39.869914Z",
          "iopub.status.busy": "2025-10-07T05:07:39.869724Z",
          "iopub.status.idle": "2025-10-07T05:07:41.690334Z",
          "shell.execute_reply": "2025-10-07T05:07:41.689992Z"
        },
        "lines_to_next_cell": 0,
        "id": "9b15cd8c",
        "outputId": "03bbd424-9a6f-48aa-b314-46fc4c6293ee",
        "colab": {
          "base_uri": "https://localhost:8080/",
          "height": 489
        }
      },
      "outputs": [
        {
          "output_type": "stream",
          "name": "stdout",
          "text": [
            "Simulating cross-section...\n"
          ]
        },
        {
          "output_type": "display_data",
          "data": {
            "text/plain": [
              "<Figure size 640x480 with 1 Axes>"
            ],
            "image/png": "[encoded data removed]"
          },
          "metadata": {}
        }
      ],
      "source": [
        "def simulate_cross_section(model, a_grid, c_policy, a_0=1.0, T=500, N=5_000, seed=456):\n",
        "    \"\"\"\n",
        "    Simulate a cross-section of households.\n",
        "\n",
        "    Parameters:\n",
        "    -----------\n",
        "    model : Model\n",
        "        The model instance\n",
        "    a_grid : array\n",
        "        Grid of asset values from solution\n",
        "    c_policy : array\n",
        "        Optimal consumption policy on the grid\n",
        "    a_0 : float\n",
        "        Initial asset level for all households\n",
        "    T : int\n",
        "        Number of periods to simulate\n",
        "    N : int\n",
        "        Number of households\n",
        "    seed : int\n",
        "        Random seed for income shocks\n",
        "    \"\"\"\n",
        "\n",
        "    # Generate income shocks for all households\n",
        "    key = jax.random.PRNGKey(seed)\n",
        "    z_sim = jax.random.normal(key, (N, T))\n",
        "    y_sim = jnp.exp(model.μ + model.ν * z_sim)\n",
        "\n",
        "    # Initialize asset holdings\n",
        "    a_current = jnp.ones(N) * a_0\n",
        "\n",
        "    # Simulate forward\n",
        "    for t in range(T):\n",
        "        # Interpolate consumption policy for all households\n",
        "        c_current = jnp.interp(a_current, a_grid, c_policy)\n",
        "        # Update assets\n",
        "        s_current = a_current - c_current\n",
        "        a_current = model.R * s_current + y_sim[:, t]\n",
        "\n",
        "    return a_current\n",
        "\n",
        "# Run cross-sectional simulation\n",
        "print(\"Simulating cross-section...\")\n",
        "a_final = simulate_cross_section(model, a_star, c_star)\n",
        "\n",
        "# Plot histogram with kernel density\n",
        "from scipy.stats import gaussian_kde\n",
        "\n",
        "fig, ax = plt.subplots()\n",
        "ax.hist(a_final, bins=50, alpha=0.5, edgecolor='black', density=True, label='histogram')\n",
        "\n",
        "# Add kernel density estimate\n",
        "kde = gaussian_kde(a_final)\n",
        "a_range = jnp.linspace(jnp.min(a_final), jnp.max(a_final), 200)\n",
        "ax.plot(a_range, kde(a_range), 'k-', linewidth=2, label='kernel density estimate')\n",
        "\n",
        "ax.set_xlabel('assets')\n",
        "ax.set_ylabel('density')\n",
        "ax.set_title('Cross-Sectional Distribution of Assets (N=5,000, T=500)')\n",
        "ax.legend()\n",
        "plt.show()"
      ]
    },
    {
      "cell_type": "markdown",
      "id": "f0e070f4",
      "metadata": {
        "id": "f0e070f4"
      },
      "source": [
        "\n"
      ]
    },
    {
      "cell_type": "code",
      "source": [],
      "metadata": {
        "id": "u-qZAai1g5no"
      },
      "id": "u-qZAai1g5no",
      "execution_count": null,
      "outputs": []
    },
    {
      "cell_type": "code",
      "execution_count": null,
      "id": "7c33763b",
      "metadata": {
        "id": "7c33763b"
      },
      "outputs": [],
      "source": []
    }
  ],
  "metadata": {
    "kernelspec": {
      "display_name": "Python 3",
      "name": "python3"
    },
    "language_info": {
      "codemirror_mode": {
        "name": "ipython",
        "version": 3
      },
      "file_extension": ".py",
      "mimetype": "text/x-python",
      "name": "python",
      "nbconvert_exporter": "python",
      "pygments_lexer": "ipython3",
      "version": "3.13.5"
    },
    "colab": {
      "provenance": [],
      "gpuType": "T4"
    },
    "accelerator": "GPU"
  },
  "nbformat": 4,
  "nbformat_minor": 5
}