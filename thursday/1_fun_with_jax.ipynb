{
  "cells": [
    {
      "cell_type": "markdown",
      "id": "66460826",
      "metadata": {
        "id": "66460826"
      },
      "source": [
        "# Fun with JAX\n",
        "\n",
        "**Prepared for the Bank of Portugal Computational Economics Course (Oct 2025)**\n",
        "\n",
        "**Author:** [John Stachurski](https://johnstachurski.net)\n",
        "\n",
        "October 2025\n",
        "\n",
        "This is a super quick illustration of the power of [JAX](https://github.com/google/jax), a Python library built by Google Research.\n",
        "\n",
        "It should be run on a machine with a GPU --- for example, try Google Colab with the runtime environment set to include a GPU.\n",
        "\n",
        "The aim is just to give a small taste of high performance computing in Python -- details will be covered later in the course."
      ]
    },
    {
      "cell_type": "markdown",
      "id": "1641e026",
      "metadata": {
        "id": "1641e026"
      },
      "source": [
        "We start with some imports"
      ]
    },
    {
      "cell_type": "code",
      "execution_count": 1,
      "id": "24cd7beb",
      "metadata": {
        "execution": {
          "iopub.execute_input": "2025-10-07T05:04:35.783695Z",
          "iopub.status.busy": "2025-10-07T05:04:35.783192Z",
          "iopub.status.idle": "2025-10-07T05:04:36.243585Z",
          "shell.execute_reply": "2025-10-07T05:04:36.243024Z"
        },
        "id": "24cd7beb"
      },
      "outputs": [],
      "source": [
        "import numpy as np\n",
        "import jax\n",
        "import jax.numpy as jnp\n",
        "import matplotlib.pyplot as plt"
      ]
    },
    {
      "cell_type": "markdown",
      "id": "37c12431",
      "metadata": {
        "id": "37c12431"
      },
      "source": [
        "Let's check our hardware:"
      ]
    },
    {
      "cell_type": "code",
      "execution_count": 2,
      "id": "005b2024",
      "metadata": {
        "execution": {
          "iopub.execute_input": "2025-10-07T05:04:36.245127Z",
          "iopub.status.busy": "2025-10-07T05:04:36.244908Z",
          "iopub.status.idle": "2025-10-07T05:04:36.402535Z",
          "shell.execute_reply": "2025-10-07T05:04:36.401879Z"
        },
        "id": "005b2024",
        "outputId": "863fee58-30c5-410a-dcca-fe3e63bde401",
        "colab": {
          "base_uri": "https://localhost:8080/"
        }
      },
      "outputs": [
        {
          "output_type": "stream",
          "name": "stdout",
          "text": [
            "Thu Oct  9 07:27:34 2025       \n",
            "+-----------------------------------------------------------------------------------------+\n",
            "| NVIDIA-SMI 550.54.15              Driver Version: 550.54.15      CUDA Version: 12.4     |\n",
            "|-----------------------------------------+------------------------+----------------------+\n",
            "| GPU  Name                 Persistence-M | Bus-Id          Disp.A | Volatile Uncorr. ECC |\n",
            "| Fan  Temp   Perf          Pwr:Usage/Cap |           Memory-Usage | GPU-Util  Compute M. |\n",
            "|                                         |                        |               MIG M. |\n",
            "|=========================================+========================+======================|\n",
            "|   0  Tesla T4                       Off |   00000000:00:04.0 Off |                    0 |\n",
            "| N/A   54C    P8             10W /   70W |       0MiB /  15360MiB |      0%      Default |\n",
            "|                                         |                        |                  N/A |\n",
            "+-----------------------------------------+------------------------+----------------------+\n",
            "                                                                                         \n",
            "+-----------------------------------------------------------------------------------------+\n",
            "| Processes:                                                                              |\n",
            "|  GPU   GI   CI        PID   Type   Process name                              GPU Memory |\n",
            "|        ID   ID                                                               Usage      |\n",
            "|=========================================================================================|\n",
            "|  No running processes found                                                             |\n",
            "+-----------------------------------------------------------------------------------------+\n"
          ]
        }
      ],
      "source": [
        "!nvidia-smi"
      ]
    },
    {
      "cell_type": "code",
      "execution_count": 3,
      "id": "c8e50ccd",
      "metadata": {
        "execution": {
          "iopub.execute_input": "2025-10-07T05:04:36.404357Z",
          "iopub.status.busy": "2025-10-07T05:04:36.404177Z",
          "iopub.status.idle": "2025-10-07T05:04:36.534268Z",
          "shell.execute_reply": "2025-10-07T05:04:36.532441Z"
        },
        "id": "c8e50ccd",
        "outputId": "899b2436-b373-4e53-a694-1975c329754e",
        "colab": {
          "base_uri": "https://localhost:8080/"
        }
      },
      "outputs": [
        {
          "output_type": "stream",
          "name": "stdout",
          "text": [
            "CPU NODE SOCKET CORE L1d:L1i:L2:L3 ONLINE\n",
            "  0    0      0    0 0:0:0:0          yes\n",
            "  1    0      0    0 0:0:0:0          yes\n"
          ]
        }
      ],
      "source": [
        "!lscpu -e"
      ]
    },
    {
      "cell_type": "markdown",
      "id": "2f7f196e",
      "metadata": {
        "id": "2f7f196e"
      },
      "source": [
        "## Transforming Data"
      ]
    },
    {
      "cell_type": "markdown",
      "id": "693758b2",
      "metadata": {
        "id": "693758b2"
      },
      "source": [
        "A very common numerical task is to apply a transformation to a set of data points.\n",
        "\n",
        "Our transformation will be the cosine function."
      ]
    },
    {
      "cell_type": "markdown",
      "id": "1b002cee",
      "metadata": {
        "id": "1b002cee"
      },
      "source": [
        "Here we evaluate the cosine function at 50 points."
      ]
    },
    {
      "cell_type": "code",
      "execution_count": 4,
      "id": "c227007f",
      "metadata": {
        "execution": {
          "iopub.execute_input": "2025-10-07T05:04:36.539852Z",
          "iopub.status.busy": "2025-10-07T05:04:36.539279Z",
          "iopub.status.idle": "2025-10-07T05:04:36.546737Z",
          "shell.execute_reply": "2025-10-07T05:04:36.545170Z"
        },
        "id": "c227007f"
      },
      "outputs": [],
      "source": [
        "x = np.linspace(0, 10, 50)\n",
        "y = np.cos(x)"
      ]
    },
    {
      "cell_type": "markdown",
      "id": "eca22ea8",
      "metadata": {
        "id": "eca22ea8"
      },
      "source": [
        "Let's plot."
      ]
    },
    {
      "cell_type": "code",
      "execution_count": 5,
      "id": "10c35c1c",
      "metadata": {
        "execution": {
          "iopub.execute_input": "2025-10-07T05:04:36.551297Z",
          "iopub.status.busy": "2025-10-07T05:04:36.550786Z",
          "iopub.status.idle": "2025-10-07T05:04:36.662675Z",
          "shell.execute_reply": "2025-10-07T05:04:36.662369Z"
        },
        "id": "10c35c1c",
        "outputId": "779103be-0aaf-4546-eb78-7262c6f7e4af",
        "colab": {
          "base_uri": "https://localhost:8080/",
          "height": 430
        }
      },
      "outputs": [
        {
          "output_type": "display_data",
          "data": {
            "text/plain": [
              "<Figure size 640x480 with 1 Axes>"
            ],
            "image/png": "[encoded data removed]"
          },
          "metadata": {}
        }
      ],
      "source": [
        "fig, ax = plt.subplots()\n",
        "ax.scatter(x, y)\n",
        "plt.show()"
      ]
    },
    {
      "cell_type": "markdown",
      "id": "6c9dbd27",
      "metadata": {
        "id": "6c9dbd27"
      },
      "source": [
        "Our aim is to evaluate the cosine function at many points."
      ]
    },
    {
      "cell_type": "code",
      "execution_count": 6,
      "id": "867c63f1",
      "metadata": {
        "execution": {
          "iopub.execute_input": "2025-10-07T05:04:36.663981Z",
          "iopub.status.busy": "2025-10-07T05:04:36.663858Z",
          "iopub.status.idle": "2025-10-07T05:04:36.762957Z",
          "shell.execute_reply": "2025-10-07T05:04:36.762584Z"
        },
        "id": "867c63f1"
      },
      "outputs": [],
      "source": [
        "n = 50_000_000\n",
        "x = np.linspace(0, 10, n)"
      ]
    },
    {
      "cell_type": "markdown",
      "id": "6e07a5d1",
      "metadata": {
        "id": "6e07a5d1"
      },
      "source": [
        "### With NumPy"
      ]
    },
    {
      "cell_type": "code",
      "execution_count": 7,
      "id": "aa468627",
      "metadata": {
        "execution": {
          "iopub.execute_input": "2025-10-07T05:04:36.764519Z",
          "iopub.status.busy": "2025-10-07T05:04:36.764361Z",
          "iopub.status.idle": "2025-10-07T05:04:37.177271Z",
          "shell.execute_reply": "2025-10-07T05:04:37.176961Z"
        },
        "id": "aa468627",
        "outputId": "22d4d6a5-00c0-44e4-e2e8-42b885e58113",
        "colab": {
          "base_uri": "https://localhost:8080/"
        }
      },
      "outputs": [
        {
          "output_type": "stream",
          "name": "stdout",
          "text": [
            "CPU times: user 660 ms, sys: 80.1 ms, total: 740 ms\n",
            "Wall time: 740 ms\n"
          ]
        }
      ],
      "source": [
        "%%time\n",
        "\n",
        "y = np.cos(x)"
      ]
    },
    {
      "cell_type": "code",
      "execution_count": 8,
      "id": "7df01946",
      "metadata": {
        "execution": {
          "iopub.execute_input": "2025-10-07T05:04:37.178647Z",
          "iopub.status.busy": "2025-10-07T05:04:37.178508Z",
          "iopub.status.idle": "2025-10-07T05:04:37.595376Z",
          "shell.execute_reply": "2025-10-07T05:04:37.594901Z"
        },
        "id": "7df01946",
        "outputId": "4528203f-a6f9-435c-df87-eb9b34ed47a0",
        "colab": {
          "base_uri": "https://localhost:8080/"
        }
      },
      "outputs": [
        {
          "output_type": "stream",
          "name": "stdout",
          "text": [
            "CPU times: user 713 ms, sys: 82.2 ms, total: 795 ms\n",
            "Wall time: 807 ms\n"
          ]
        }
      ],
      "source": [
        "%%time\n",
        "\n",
        "y = np.cos(x)"
      ]
    },
    {
      "cell_type": "code",
      "execution_count": 9,
      "id": "26606ded",
      "metadata": {
        "execution": {
          "iopub.execute_input": "2025-10-07T05:04:37.596886Z",
          "iopub.status.busy": "2025-10-07T05:04:37.596688Z",
          "iopub.status.idle": "2025-10-07T05:04:37.599727Z",
          "shell.execute_reply": "2025-10-07T05:04:37.599415Z"
        },
        "id": "26606ded"
      },
      "outputs": [],
      "source": [
        "x = None"
      ]
    },
    {
      "cell_type": "markdown",
      "id": "dcd3e811",
      "metadata": {
        "id": "dcd3e811"
      },
      "source": [
        "### With JAX"
      ]
    },
    {
      "cell_type": "code",
      "execution_count": 10,
      "id": "ff051ea3",
      "metadata": {
        "execution": {
          "iopub.execute_input": "2025-10-07T05:04:37.601094Z",
          "iopub.status.busy": "2025-10-07T05:04:37.600914Z",
          "iopub.status.idle": "2025-10-07T05:04:37.991606Z",
          "shell.execute_reply": "2025-10-07T05:04:37.991147Z"
        },
        "id": "ff051ea3"
      },
      "outputs": [],
      "source": [
        "x_jax = jnp.linspace(0, 10, n)"
      ]
    },
    {
      "cell_type": "markdown",
      "id": "053cf684",
      "metadata": {
        "id": "053cf684"
      },
      "source": [
        "Let's time it.\n"
      ]
    },
    {
      "cell_type": "code",
      "execution_count": 11,
      "id": "6e9af7f2",
      "metadata": {
        "execution": {
          "iopub.execute_input": "2025-10-07T05:04:37.992893Z",
          "iopub.status.busy": "2025-10-07T05:04:37.992759Z",
          "iopub.status.idle": "2025-10-07T05:04:38.048713Z",
          "shell.execute_reply": "2025-10-07T05:04:38.048338Z"
        },
        "id": "6e9af7f2",
        "outputId": "e2ce2313-4600-4d72-c97c-56ee449dbf09",
        "colab": {
          "base_uri": "https://localhost:8080/"
        }
      },
      "outputs": [
        {
          "output_type": "stream",
          "name": "stdout",
          "text": [
            "CPU times: user 51.9 ms, sys: 3.78 ms, total: 55.7 ms\n",
            "Wall time: 93.5 ms\n"
          ]
        },
        {
          "output_type": "execute_result",
          "data": {
            "text/plain": [
              "Array([ 1.        ,  1.        ,  1.        , ..., -0.83907205,\n",
              "       -0.8390716 , -0.8390716 ], dtype=float32)"
            ]
          },
          "metadata": {},
          "execution_count": 11
        }
      ],
      "source": [
        "%%time\n",
        "\n",
        "y = jnp.cos(x_jax)\n",
        "jax.block_until_ready(y);  # Don't run forward until the array is returned"
      ]
    },
    {
      "cell_type": "code",
      "execution_count": 12,
      "id": "2ad919f2",
      "metadata": {
        "execution": {
          "iopub.execute_input": "2025-10-07T05:04:38.050003Z",
          "iopub.status.busy": "2025-10-07T05:04:38.049879Z",
          "iopub.status.idle": "2025-10-07T05:04:38.052917Z",
          "shell.execute_reply": "2025-10-07T05:04:38.052660Z"
        },
        "id": "2ad919f2",
        "outputId": "0093d270-572f-47c1-aa09-c91c2d6502a3",
        "colab": {
          "base_uri": "https://localhost:8080/"
        }
      },
      "outputs": [
        {
          "output_type": "stream",
          "name": "stdout",
          "text": [
            "CPU times: user 1.49 ms, sys: 0 ns, total: 1.49 ms\n",
            "Wall time: 1.97 ms\n"
          ]
        },
        {
          "output_type": "execute_result",
          "data": {
            "text/plain": [
              "Array([ 1.        ,  1.        ,  1.        , ..., -0.83907205,\n",
              "       -0.8390716 , -0.8390716 ], dtype=float32)"
            ]
          },
          "metadata": {},
          "execution_count": 12
        }
      ],
      "source": [
        "%%time\n",
        "\n",
        "y = jnp.cos(x_jax)\n",
        "jax.block_until_ready(y);"
      ]
    },
    {
      "cell_type": "markdown",
      "id": "fff35c99",
      "metadata": {
        "id": "fff35c99"
      },
      "source": [
        "Here we change the input size --- can you explain why the timing changes?"
      ]
    },
    {
      "cell_type": "code",
      "execution_count": 13,
      "id": "1ae62674",
      "metadata": {
        "execution": {
          "iopub.execute_input": "2025-10-07T05:04:38.054022Z",
          "iopub.status.busy": "2025-10-07T05:04:38.053905Z",
          "iopub.status.idle": "2025-10-07T05:04:38.092565Z",
          "shell.execute_reply": "2025-10-07T05:04:38.092139Z"
        },
        "id": "1ae62674"
      },
      "outputs": [],
      "source": [
        "x_jax = jnp.linspace(0, 10, n + 1)"
      ]
    },
    {
      "cell_type": "code",
      "execution_count": 14,
      "id": "73f3cbf7",
      "metadata": {
        "execution": {
          "iopub.execute_input": "2025-10-07T05:04:38.093967Z",
          "iopub.status.busy": "2025-10-07T05:04:38.093844Z",
          "iopub.status.idle": "2025-10-07T05:04:38.129074Z",
          "shell.execute_reply": "2025-10-07T05:04:38.128695Z"
        },
        "id": "73f3cbf7",
        "outputId": "46bbf80d-508d-41aa-963e-674ca70baa13",
        "colab": {
          "base_uri": "https://localhost:8080/"
        }
      },
      "outputs": [
        {
          "output_type": "stream",
          "name": "stdout",
          "text": [
            "CPU times: user 35.3 ms, sys: 96 µs, total: 35.4 ms\n",
            "Wall time: 53.4 ms\n"
          ]
        },
        {
          "output_type": "execute_result",
          "data": {
            "text/plain": [
              "Array([ 1.       ,  1.       ,  1.       , ..., -0.8390716, -0.8390716,\n",
              "       -0.8390716], dtype=float32)"
            ]
          },
          "metadata": {},
          "execution_count": 14
        }
      ],
      "source": [
        "%%time\n",
        "\n",
        "y = jnp.cos(x_jax)\n",
        "jax.block_until_ready(y);"
      ]
    },
    {
      "cell_type": "code",
      "execution_count": 15,
      "id": "6a692881",
      "metadata": {
        "execution": {
          "iopub.execute_input": "2025-10-07T05:04:38.130375Z",
          "iopub.status.busy": "2025-10-07T05:04:38.130255Z",
          "iopub.status.idle": "2025-10-07T05:04:38.133261Z",
          "shell.execute_reply": "2025-10-07T05:04:38.132948Z"
        },
        "id": "6a692881",
        "outputId": "ab6dc4bc-d5b3-4cde-b1ad-c05b990f16bb",
        "colab": {
          "base_uri": "https://localhost:8080/"
        }
      },
      "outputs": [
        {
          "output_type": "stream",
          "name": "stdout",
          "text": [
            "CPU times: user 1.14 ms, sys: 123 µs, total: 1.27 ms\n",
            "Wall time: 2.36 ms\n"
          ]
        },
        {
          "output_type": "execute_result",
          "data": {
            "text/plain": [
              "Array([ 1.       ,  1.       ,  1.       , ..., -0.8390716, -0.8390716,\n",
              "       -0.8390716], dtype=float32)"
            ]
          },
          "metadata": {},
          "execution_count": 15
        }
      ],
      "source": [
        "%%time\n",
        "\n",
        "y = jnp.cos(x_jax)\n",
        "jax.block_until_ready(y);"
      ]
    },
    {
      "cell_type": "code",
      "execution_count": 16,
      "id": "b9be9aca",
      "metadata": {
        "execution": {
          "iopub.execute_input": "2025-10-07T05:04:38.134452Z",
          "iopub.status.busy": "2025-10-07T05:04:38.134339Z",
          "iopub.status.idle": "2025-10-07T05:04:38.136310Z",
          "shell.execute_reply": "2025-10-07T05:04:38.136000Z"
        },
        "id": "b9be9aca"
      },
      "outputs": [],
      "source": [
        "x_jax = None  # Free memory"
      ]
    },
    {
      "cell_type": "markdown",
      "id": "1db434ac",
      "metadata": {
        "id": "1db434ac"
      },
      "source": [
        "## Evaluating a more complicated function"
      ]
    },
    {
      "cell_type": "code",
      "execution_count": 17,
      "id": "67d6526a",
      "metadata": {
        "execution": {
          "iopub.execute_input": "2025-10-07T05:04:38.137496Z",
          "iopub.status.busy": "2025-10-07T05:04:38.137384Z",
          "iopub.status.idle": "2025-10-07T05:04:38.139557Z",
          "shell.execute_reply": "2025-10-07T05:04:38.139244Z"
        },
        "id": "67d6526a"
      },
      "outputs": [],
      "source": [
        "def f(x):\n",
        "    y = np.cos(2 * x**2) + np.sqrt(np.abs(x)) + 2 * np.sin(x**4) - 0.1 * x**2\n",
        "    return y"
      ]
    },
    {
      "cell_type": "code",
      "execution_count": 18,
      "id": "002d34b3",
      "metadata": {
        "execution": {
          "iopub.execute_input": "2025-10-07T05:04:38.140701Z",
          "iopub.status.busy": "2025-10-07T05:04:38.140587Z",
          "iopub.status.idle": "2025-10-07T05:04:38.203158Z",
          "shell.execute_reply": "2025-10-07T05:04:38.202834Z"
        },
        "id": "002d34b3",
        "outputId": "72f6c4bf-a5f8-4ad4-8f51-56c2d162f180",
        "colab": {
          "base_uri": "https://localhost:8080/",
          "height": 434
        }
      },
      "outputs": [
        {
          "output_type": "display_data",
          "data": {
            "text/plain": [
              "<Figure size 640x480 with 1 Axes>"
            ],
            "image/png": "[encoded data removed]"
          },
          "metadata": {}
        }
      ],
      "source": [
        "fig, ax = plt.subplots()\n",
        "x = np.linspace(0, 10, 100)\n",
        "ax.plot(x, f(x))\n",
        "ax.scatter(x, f(x))\n",
        "plt.show()"
      ]
    },
    {
      "cell_type": "markdown",
      "id": "88873e81",
      "metadata": {
        "id": "88873e81"
      },
      "source": [
        "Now let's try with a large array."
      ]
    },
    {
      "cell_type": "markdown",
      "id": "f77436fc",
      "metadata": {
        "id": "f77436fc"
      },
      "source": [
        "### With NumPy"
      ]
    },
    {
      "cell_type": "code",
      "execution_count": 19,
      "id": "c8417869",
      "metadata": {
        "execution": {
          "iopub.execute_input": "2025-10-07T05:04:38.204372Z",
          "iopub.status.busy": "2025-10-07T05:04:38.204252Z",
          "iopub.status.idle": "2025-10-07T05:04:38.303773Z",
          "shell.execute_reply": "2025-10-07T05:04:38.303324Z"
        },
        "id": "c8417869"
      },
      "outputs": [],
      "source": [
        "n = 50_000_000\n",
        "x = np.linspace(0, 10, n)"
      ]
    },
    {
      "cell_type": "code",
      "execution_count": 20,
      "id": "70face31",
      "metadata": {
        "execution": {
          "iopub.execute_input": "2025-10-07T05:04:38.305296Z",
          "iopub.status.busy": "2025-10-07T05:04:38.305174Z",
          "iopub.status.idle": "2025-10-07T05:04:40.247370Z",
          "shell.execute_reply": "2025-10-07T05:04:40.247043Z"
        },
        "id": "70face31",
        "outputId": "2fdeda82-ad38-4163-83a8-8c8feb8aa93e",
        "colab": {
          "base_uri": "https://localhost:8080/"
        }
      },
      "outputs": [
        {
          "output_type": "stream",
          "name": "stdout",
          "text": [
            "CPU times: user 3.44 s, sys: 514 ms, total: 3.96 s\n",
            "Wall time: 4.01 s\n"
          ]
        }
      ],
      "source": [
        "%%time\n",
        "\n",
        "y = f(x)"
      ]
    },
    {
      "cell_type": "code",
      "execution_count": 21,
      "id": "596f2152",
      "metadata": {
        "execution": {
          "iopub.execute_input": "2025-10-07T05:04:40.248687Z",
          "iopub.status.busy": "2025-10-07T05:04:40.248567Z",
          "iopub.status.idle": "2025-10-07T05:04:42.181751Z",
          "shell.execute_reply": "2025-10-07T05:04:42.181410Z"
        },
        "id": "596f2152",
        "outputId": "90439e99-0fcf-46c3-b68e-c12c38f509b2",
        "colab": {
          "base_uri": "https://localhost:8080/"
        }
      },
      "outputs": [
        {
          "output_type": "stream",
          "name": "stdout",
          "text": [
            "CPU times: user 2.95 s, sys: 468 ms, total: 3.42 s\n",
            "Wall time: 3.42 s\n"
          ]
        }
      ],
      "source": [
        "%%time\n",
        "\n",
        "y = f(x)"
      ]
    },
    {
      "cell_type": "markdown",
      "id": "99df7e3f",
      "metadata": {
        "id": "99df7e3f"
      },
      "source": [
        "### With JAX"
      ]
    },
    {
      "cell_type": "code",
      "execution_count": 22,
      "id": "5703fa9b",
      "metadata": {
        "execution": {
          "iopub.execute_input": "2025-10-07T05:04:42.183235Z",
          "iopub.status.busy": "2025-10-07T05:04:42.183116Z",
          "iopub.status.idle": "2025-10-07T05:04:42.185441Z",
          "shell.execute_reply": "2025-10-07T05:04:42.185134Z"
        },
        "id": "5703fa9b"
      },
      "outputs": [],
      "source": [
        "def f(x):\n",
        "    y = jnp.cos(2 * x**2) + jnp.sqrt(jnp.abs(x)) + 2 * jnp.sin(x**4) - x**2\n",
        "    return y"
      ]
    },
    {
      "cell_type": "code",
      "execution_count": 23,
      "id": "f2fa12e1",
      "metadata": {
        "execution": {
          "iopub.execute_input": "2025-10-07T05:04:42.186645Z",
          "iopub.status.busy": "2025-10-07T05:04:42.186533Z",
          "iopub.status.idle": "2025-10-07T05:04:42.189382Z",
          "shell.execute_reply": "2025-10-07T05:04:42.189136Z"
        },
        "id": "f2fa12e1"
      },
      "outputs": [],
      "source": [
        "x_jax = jnp.linspace(0, 10, n)"
      ]
    },
    {
      "cell_type": "code",
      "execution_count": 24,
      "id": "8bc8ddde",
      "metadata": {
        "execution": {
          "iopub.execute_input": "2025-10-07T05:04:42.190605Z",
          "iopub.status.busy": "2025-10-07T05:04:42.190495Z",
          "iopub.status.idle": "2025-10-07T05:04:42.421581Z",
          "shell.execute_reply": "2025-10-07T05:04:42.421253Z"
        },
        "id": "8bc8ddde",
        "outputId": "08a09836-b94b-4069-b876-7bf0996584b8",
        "colab": {
          "base_uri": "https://localhost:8080/"
        }
      },
      "outputs": [
        {
          "output_type": "stream",
          "name": "stdout",
          "text": [
            "CPU times: user 234 ms, sys: 6.39 ms, total: 240 ms\n",
            "Wall time: 350 ms\n"
          ]
        },
        {
          "output_type": "execute_result",
          "data": {
            "text/plain": [
              "Array([  1.       ,   1.0004472,   1.0006324, ..., -96.95619  ,\n",
              "       -96.96176  , -96.96176  ], dtype=float32)"
            ]
          },
          "metadata": {},
          "execution_count": 24
        }
      ],
      "source": [
        "%%time\n",
        "\n",
        "y = f(x_jax)\n",
        "jax.block_until_ready(y);"
      ]
    },
    {
      "cell_type": "code",
      "execution_count": 25,
      "id": "5979a8dc",
      "metadata": {
        "execution": {
          "iopub.execute_input": "2025-10-07T05:04:42.422759Z",
          "iopub.status.busy": "2025-10-07T05:04:42.422636Z",
          "iopub.status.idle": "2025-10-07T05:04:42.578798Z",
          "shell.execute_reply": "2025-10-07T05:04:42.578115Z"
        },
        "id": "5979a8dc",
        "outputId": "7c088ae3-cd07-4bd6-a39f-70e3ebc6a3c1",
        "colab": {
          "base_uri": "https://localhost:8080/"
        }
      },
      "outputs": [
        {
          "output_type": "stream",
          "name": "stdout",
          "text": [
            "CPU times: user 5.21 ms, sys: 41 µs, total: 5.25 ms\n",
            "Wall time: 22.5 ms\n"
          ]
        },
        {
          "output_type": "execute_result",
          "data": {
            "text/plain": [
              "Array([  1.       ,   1.0004472,   1.0006324, ..., -96.95619  ,\n",
              "       -96.96176  , -96.96176  ], dtype=float32)"
            ]
          },
          "metadata": {},
          "execution_count": 25
        }
      ],
      "source": [
        "%%time\n",
        "\n",
        "y = f(x_jax)\n",
        "jax.block_until_ready(y)"
      ]
    },
    {
      "cell_type": "markdown",
      "id": "a8557dab",
      "metadata": {
        "id": "a8557dab"
      },
      "source": [
        "### Compiling the Whole Function"
      ]
    },
    {
      "cell_type": "code",
      "execution_count": 26,
      "id": "bb964fa3",
      "metadata": {
        "execution": {
          "iopub.execute_input": "2025-10-07T05:04:42.580993Z",
          "iopub.status.busy": "2025-10-07T05:04:42.580738Z",
          "iopub.status.idle": "2025-10-07T05:04:42.583871Z",
          "shell.execute_reply": "2025-10-07T05:04:42.583380Z"
        },
        "id": "bb964fa3"
      },
      "outputs": [],
      "source": [
        "f_jax = jax.jit(f)"
      ]
    },
    {
      "cell_type": "code",
      "execution_count": 27,
      "id": "73bab26a",
      "metadata": {
        "execution": {
          "iopub.execute_input": "2025-10-07T05:04:42.585892Z",
          "iopub.status.busy": "2025-10-07T05:04:42.585657Z",
          "iopub.status.idle": "2025-10-07T05:04:42.693600Z",
          "shell.execute_reply": "2025-10-07T05:04:42.693243Z"
        },
        "id": "73bab26a",
        "outputId": "296f04cf-487e-4c7c-ebcf-d9a15412356a",
        "colab": {
          "base_uri": "https://localhost:8080/"
        }
      },
      "outputs": [
        {
          "output_type": "stream",
          "name": "stdout",
          "text": [
            "CPU times: user 85.8 ms, sys: 1.76 ms, total: 87.6 ms\n",
            "Wall time: 135 ms\n"
          ]
        },
        {
          "output_type": "execute_result",
          "data": {
            "text/plain": [
              "Array([  1.       ,   1.0004472,   1.0006324, ..., -96.95619  ,\n",
              "       -96.96176  , -96.96176  ], dtype=float32)"
            ]
          },
          "metadata": {},
          "execution_count": 27
        }
      ],
      "source": [
        "%%time\n",
        "\n",
        "y = f_jax(x_jax)\n",
        "jax.block_until_ready(y);"
      ]
    },
    {
      "cell_type": "code",
      "execution_count": 28,
      "id": "22922739",
      "metadata": {
        "execution": {
          "iopub.execute_input": "2025-10-07T05:04:42.694915Z",
          "iopub.status.busy": "2025-10-07T05:04:42.694749Z",
          "iopub.status.idle": "2025-10-07T05:04:42.697732Z",
          "shell.execute_reply": "2025-10-07T05:04:42.697426Z"
        },
        "id": "22922739",
        "outputId": "2178e59f-3cda-4523-a97b-2106c229e494",
        "colab": {
          "base_uri": "https://localhost:8080/"
        }
      },
      "outputs": [
        {
          "output_type": "stream",
          "name": "stdout",
          "text": [
            "CPU times: user 1.41 ms, sys: 0 ns, total: 1.41 ms\n",
            "Wall time: 2.41 ms\n"
          ]
        },
        {
          "output_type": "execute_result",
          "data": {
            "text/plain": [
              "Array([  1.       ,   1.0004472,   1.0006324, ..., -96.95619  ,\n",
              "       -96.96176  , -96.96176  ], dtype=float32)"
            ]
          },
          "metadata": {},
          "execution_count": 28
        }
      ],
      "source": [
        "%%time\n",
        "\n",
        "y = f_jax(x_jax)\n",
        "jax.block_until_ready(y);"
      ]
    },
    {
      "cell_type": "code",
      "execution_count": 28,
      "id": "30aa68b3",
      "metadata": {
        "id": "30aa68b3"
      },
      "outputs": [],
      "source": []
    }
  ],
  "metadata": {
    "kernelspec": {
      "display_name": "Python 3",
      "name": "python3"
    },
    "language_info": {
      "codemirror_mode": {
        "name": "ipython",
        "version": 3
      },
      "file_extension": ".py",
      "mimetype": "text/x-python",
      "name": "python",
      "nbconvert_exporter": "python",
      "pygments_lexer": "ipython3",
      "version": "3.13.5"
    },
    "colab": {
      "provenance": [],
      "gpuType": "T4"
    },
    "accelerator": "GPU"
  },
  "nbformat": 4,
  "nbformat_minor": 5
}