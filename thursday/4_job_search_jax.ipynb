{
  "cells": [
    {
      "cell_type": "markdown",
      "id": "7469741e",
      "metadata": {
        "id": "7469741e"
      },
      "source": [
        "# Job Search\n",
        "\n",
        "**Prepared for the Bank of Portugal Computational Economics Course (Oct 2025)**\n",
        "\n",
        "**Author:** [John Stachurski](https://johnstachurski.net)\n",
        "\n",
        "\n",
        "In this lecture we study a basic infinite-horizon job search problem with Markov wage\n",
        "draws\n",
        "\n",
        "* For background on infinite horizon job search see, e.g., [DP1](https://dp.quantecon.org/).\n",
        "\n",
        "\n",
        "In addition to what's in Anaconda, this lecture will need the QE library:"
      ]
    },
    {
      "cell_type": "code",
      "execution_count": 2,
      "id": "7a99687a",
      "metadata": {
        "id": "7a99687a",
        "outputId": "0dedc4ae-5c2a-4813-be6e-29b86def7eb8",
        "colab": {
          "base_uri": "https://localhost:8080/"
        }
      },
      "outputs": [
        {
          "output_type": "stream",
          "name": "stdout",
          "text": [
            "Collecting quantecon\n",
            "  Downloading quantecon-0.10.1-py3-none-any.whl.metadata (5.3 kB)\n",
            "Requirement already satisfied: numba>=0.49.0 in /usr/local/lib/python3.12/dist-packages (from quantecon) (0.60.0)\n",
            "Requirement already satisfied: numpy>=1.17.0 in /usr/local/lib/python3.12/dist-packages (from quantecon) (2.0.2)\n",
            "Requirement already satisfied: requests in /usr/local/lib/python3.12/dist-packages (from quantecon) (2.32.4)\n",
            "Requirement already satisfied: scipy>=1.5.0 in /usr/local/lib/python3.12/dist-packages (from quantecon) (1.16.2)\n",
            "Requirement already satisfied: sympy in /usr/local/lib/python3.12/dist-packages (from quantecon) (1.13.3)\n",
            "Requirement already satisfied: llvmlite<0.44,>=0.43.0dev0 in /usr/local/lib/python3.12/dist-packages (from numba>=0.49.0->quantecon) (0.43.0)\n",
            "Requirement already satisfied: charset_normalizer<4,>=2 in /usr/local/lib/python3.12/dist-packages (from requests->quantecon) (3.4.3)\n",
            "Requirement already satisfied: idna<4,>=2.5 in /usr/local/lib/python3.12/dist-packages (from requests->quantecon) (3.10)\n",
            "Requirement already satisfied: urllib3<3,>=1.21.1 in /usr/local/lib/python3.12/dist-packages (from requests->quantecon) (2.5.0)\n",
            "Requirement already satisfied: certifi>=2017.4.17 in /usr/local/lib/python3.12/dist-packages (from requests->quantecon) (2025.8.3)\n",
            "Requirement already satisfied: mpmath<1.4,>=1.1.0 in /usr/local/lib/python3.12/dist-packages (from sympy->quantecon) (1.3.0)\n",
            "Downloading quantecon-0.10.1-py3-none-any.whl (325 kB)\n",
            "\u001b[2K   \u001b[90m━━━━━━━━━━━━━━━━━━━━━━━━━━━━━━━━━━━━━━━━\u001b[0m \u001b[32m325.7/325.7 kB\u001b[0m \u001b[31m6.8 MB/s\u001b[0m eta \u001b[36m0:00:00\u001b[0m\n",
            "\u001b[?25hInstalling collected packages: quantecon\n",
            "Successfully installed quantecon-0.10.1\n"
          ]
        }
      ],
      "source": [
        "!pip install quantecon  # Uncomment if necessary"
      ]
    },
    {
      "cell_type": "markdown",
      "id": "180b235e",
      "metadata": {
        "id": "180b235e"
      },
      "source": [
        "We use the following imports."
      ]
    },
    {
      "cell_type": "code",
      "execution_count": 3,
      "id": "a7c56908",
      "metadata": {
        "id": "a7c56908"
      },
      "outputs": [],
      "source": [
        "import matplotlib.pyplot as plt\n",
        "import quantecon as qe\n",
        "import jax.numpy as jnp\n",
        "import jax\n",
        "from jax import lax\n",
        "import time\n",
        "from typing import NamedTuple, Callable\n",
        "from functools import partial"
      ]
    },
    {
      "cell_type": "markdown",
      "id": "aa56504b",
      "metadata": {
        "id": "aa56504b"
      },
      "source": [
        "## Model\n",
        "\n",
        "We study an elementary model where\n",
        "\n",
        "* jobs are permanent\n",
        "* unemployed workers receive current compensation $c$\n",
        "* the horizon is infinite\n",
        "* an unemployment agent discounts the future via discount factor $\\beta \\in (0,1)$\n",
        "\n",
        "### Set up\n",
        "\n",
        "At the start of each period, an unemployed worker receives wage offer $W_t$.\n",
        "\n",
        "We assume that\n",
        "\n",
        "$$\n",
        "    \\ln W_{t+1} = \\rho \\ln W_t + \\nu Z_{t+1}\n",
        "$$\n",
        "\n",
        "where $(Z_t)_{t \\geq 0}$ is IID and standard normal.\n",
        "\n",
        "We then discretize this wage process using Tauchen's method to produce a stochastic matrix $P$.\n",
        "\n",
        "Successive wage offers are drawn from $P$.\n",
        "\n",
        "### Rewards\n",
        "\n",
        "Since jobs are permanent, the return to accepting wage offer $w$ today is\n",
        "\n",
        "$$\n",
        "    w + \\beta w + \\beta^2 w +\n",
        "    \\cdots = \\frac{w}{1-\\beta}\n",
        "$$\n",
        "\n",
        "The Bellman equation is\n",
        "\n",
        "$$\n",
        "    v(w) = \\max\n",
        "    \\left\\{\n",
        "            \\frac{w}{1-\\beta}, c + \\beta \\sum_{w'} v(w') P(w, w')\n",
        "    \\right\\}\n",
        "$$\n",
        "\n",
        "We solve this model using value function iteration."
      ]
    },
    {
      "cell_type": "markdown",
      "id": "3527a90f",
      "metadata": {
        "id": "3527a90f"
      },
      "source": [
        "## Code\n",
        "\n",
        "Let's set up a `Model` class to store information needed to solve the model."
      ]
    },
    {
      "cell_type": "code",
      "execution_count": 4,
      "id": "e21347bf",
      "metadata": {
        "id": "e21347bf"
      },
      "outputs": [],
      "source": [
        "class Model(NamedTuple):\n",
        "    n: int\n",
        "    w_vals: jnp.ndarray\n",
        "    P: jnp.ndarray\n",
        "    β: float\n",
        "    c: float"
      ]
    },
    {
      "cell_type": "markdown",
      "id": "6b89e9ae",
      "metadata": {
        "id": "6b89e9ae"
      },
      "source": [
        "The function below holds default values and creates a `Model` instance."
      ]
    },
    {
      "cell_type": "code",
      "execution_count": 5,
      "id": "fd98f7b1",
      "metadata": {
        "id": "fd98f7b1"
      },
      "outputs": [],
      "source": [
        "def create_js_model(\n",
        "        n: int = 500,       # wage grid size\n",
        "        ρ: float = 0.9,     # wage persistence\n",
        "        ν: float = 0.2,     # wage volatility\n",
        "        β: float = 0.99,    # discount factor\n",
        "        c: float = 1.0,     # unemployment compensation\n",
        "    ) -> Model:\n",
        "    \"\"\"\n",
        "    Creates an instance of the job search model with Markov wages.\n",
        "    \"\"\"\n",
        "    mc = qe.tauchen(n, ρ, ν)\n",
        "    w_vals, P = jnp.exp(mc.state_values), jnp.array(mc.P)\n",
        "\n",
        "    return Model(n, w_vals, P, β, c)"
      ]
    },
    {
      "cell_type": "markdown",
      "id": "9901b683",
      "metadata": {
        "id": "9901b683"
      },
      "source": [
        "Let's test it:"
      ]
    },
    {
      "cell_type": "code",
      "execution_count": 6,
      "id": "efa68ae5",
      "metadata": {
        "id": "efa68ae5"
      },
      "outputs": [],
      "source": [
        "model = create_js_model(β=0.98)"
      ]
    },
    {
      "cell_type": "code",
      "execution_count": 7,
      "id": "f88c3ffa",
      "metadata": {
        "id": "f88c3ffa",
        "outputId": "9a459ab4-50c8-4175-b575-52d8f2fd6f4b",
        "colab": {
          "base_uri": "https://localhost:8080/"
        }
      },
      "outputs": [
        {
          "output_type": "execute_result",
          "data": {
            "text/plain": [
              "1.0"
            ]
          },
          "metadata": {},
          "execution_count": 7
        }
      ],
      "source": [
        "model.c"
      ]
    },
    {
      "cell_type": "code",
      "execution_count": 8,
      "id": "e69b0f6e",
      "metadata": {
        "id": "e69b0f6e",
        "outputId": "9ddf6450-98dc-4bd6-81a5-5b1bf506abc1",
        "colab": {
          "base_uri": "https://localhost:8080/"
        }
      },
      "outputs": [
        {
          "output_type": "execute_result",
          "data": {
            "text/plain": [
              "0.98"
            ]
          },
          "metadata": {},
          "execution_count": 8
        }
      ],
      "source": [
        "model.β"
      ]
    },
    {
      "cell_type": "code",
      "execution_count": 9,
      "id": "b1f31029",
      "metadata": {
        "id": "b1f31029",
        "outputId": "4730889f-ac6f-4b22-c8bf-5e9475e518c4",
        "colab": {
          "base_uri": "https://localhost:8080/"
        }
      },
      "outputs": [
        {
          "output_type": "execute_result",
          "data": {
            "text/plain": [
              "Array(1.3486148, dtype=float32)"
            ]
          },
          "metadata": {},
          "execution_count": 9
        }
      ],
      "source": [
        "model.w_vals.mean()"
      ]
    },
    {
      "cell_type": "markdown",
      "id": "1966be48",
      "metadata": {
        "id": "1966be48"
      },
      "source": [
        "Here's the Bellman operator\n",
        "\n",
        "$$\n",
        "    (Tv)(w) = \\max\n",
        "    \\left\\{\n",
        "            \\frac{w}{1-\\beta}, c + \\beta \\sum_{w'} v(w') P(w, w')\n",
        "    \\right\\}\n",
        "$$"
      ]
    },
    {
      "cell_type": "code",
      "execution_count": 10,
      "id": "18646c8d",
      "metadata": {
        "id": "18646c8d"
      },
      "outputs": [],
      "source": [
        "@jax.jit\n",
        "def T(v: jnp.ndarray, model: Model) -> jnp.ndarray:\n",
        "    \"\"\"\n",
        "    The Bellman operator Tv = max{e, c + β P v} with\n",
        "\n",
        "        e(w) = w / (1-β) and (Pv)(w) = E_w[ v(W')]\n",
        "\n",
        "    \"\"\"\n",
        "    n, w_vals, P, β, c = model\n",
        "    h = c + β * P @ v\n",
        "    e = w_vals / (1 - β)\n",
        "\n",
        "    return jnp.maximum(e, h)"
      ]
    },
    {
      "cell_type": "markdown",
      "id": "8f969493",
      "metadata": {
        "id": "8f969493"
      },
      "source": [
        "The next function computes the optimal policy under the assumption that $v$ is\n",
        "the value function.\n",
        "\n",
        "The policy takes the form\n",
        "\n",
        "$$\n",
        "    \\sigma(w) = \\mathbf 1\n",
        "        \\left\\{\n",
        "            \\frac{w}{1-\\beta} \\geq c + \\beta \\sum_{w'} v(w') P(w, w')\n",
        "        \\right\\}\n",
        "$$\n",
        "\n",
        "Here $\\mathbf 1$ is an indicator function.\n",
        "\n",
        "* $\\sigma(w) = 1$ means stop\n",
        "* $\\sigma(w) = 0$ means continue."
      ]
    },
    {
      "cell_type": "code",
      "execution_count": 11,
      "id": "61ab8e33",
      "metadata": {
        "id": "61ab8e33"
      },
      "outputs": [],
      "source": [
        "@jax.jit\n",
        "def get_greedy(v: jnp.ndarray, model: Model) -> jnp.ndarray:\n",
        "    \"Get a v-greedy policy.\"\n",
        "    n, w_vals, P, β, c = model\n",
        "    e = w_vals / (1 - β)\n",
        "    h = c + β * P @ v\n",
        "    σ = jnp.where(e >= h, 1, 0)\n",
        "    return σ"
      ]
    },
    {
      "cell_type": "markdown",
      "id": "5e7ecaba",
      "metadata": {
        "id": "5e7ecaba"
      },
      "source": [
        "Here's a routine for value function iteration."
      ]
    },
    {
      "cell_type": "code",
      "execution_count": 12,
      "id": "06581f8d",
      "metadata": {
        "id": "06581f8d"
      },
      "outputs": [],
      "source": [
        "def vfi(\n",
        "        model: Model,\n",
        "        max_iter: int = 10_000,\n",
        "        tol: float = 1e-4,\n",
        "        verbose: bool = False\n",
        "    ):\n",
        "    \"\"\"\n",
        "    Solve the infinite-horizon Markov job search model by VFI.\n",
        "\n",
        "    \"\"\"\n",
        "    v = jnp.zeros_like(model.w_vals)  # Initial condition\n",
        "\n",
        "    for i in range(max_iter):\n",
        "        new_v = T(v, model)\n",
        "        error = jnp.max(jnp.abs(new_v - v))\n",
        "        if error < tol:\n",
        "            if verbose:\n",
        "                print(f\"VFI converged after {i+1} iterations \"\n",
        "                      f\"(error: {error:.2e})\")\n",
        "            break\n",
        "        v = new_v\n",
        "    else:\n",
        "        print(f\"VFI hit max iterations ({max_iter}) with error {error:.2e}\")\n",
        "\n",
        "    return new_v, get_greedy(new_v, model)"
      ]
    },
    {
      "cell_type": "markdown",
      "id": "b3f9412c",
      "metadata": {
        "id": "b3f9412c"
      },
      "source": [
        "## Computing the solution\n",
        "\n",
        "Let's set up and solve the model."
      ]
    },
    {
      "cell_type": "code",
      "execution_count": 13,
      "id": "10c491ab",
      "metadata": {
        "id": "10c491ab",
        "outputId": "6f21b1bc-3b3e-417d-84ec-21f9ea42f0f7",
        "colab": {
          "base_uri": "https://localhost:8080/"
        }
      },
      "outputs": [
        {
          "output_type": "stream",
          "name": "stdout",
          "text": [
            "VFI converged after 442 iterations (error: 9.16e-05)\n"
          ]
        }
      ],
      "source": [
        "model = create_js_model()\n",
        "n, w_vals, P, β, c = model\n",
        "\n",
        "v_star, σ_star = vfi(model, verbose=True)"
      ]
    },
    {
      "cell_type": "markdown",
      "id": "4bf40fb5",
      "metadata": {
        "id": "4bf40fb5"
      },
      "source": [
        "Here's the optimal policy:"
      ]
    },
    {
      "cell_type": "code",
      "execution_count": 14,
      "id": "ce8e701b",
      "metadata": {
        "id": "ce8e701b",
        "outputId": "2a22f5ef-3537-483b-849f-20dea3df69b4",
        "colab": {
          "base_uri": "https://localhost:8080/",
          "height": 449
        }
      },
      "outputs": [
        {
          "output_type": "display_data",
          "data": {
            "text/plain": [
              "<Figure size 640x480 with 1 Axes>"
            ],
            "image/png": "[encoded data removed]"
          },
          "metadata": {}
        }
      ],
      "source": [
        "fig, ax = plt.subplots()\n",
        "ax.plot(w_vals, σ_star)\n",
        "ax.set_xlabel(\"wage values\")\n",
        "ax.set_ylabel(\"optimal choice (stop=1)\")\n",
        "ax.set_yticks((0, 1))\n",
        "plt.show()"
      ]
    },
    {
      "cell_type": "markdown",
      "id": "2cdb3ec2",
      "metadata": {
        "id": "2cdb3ec2"
      },
      "source": [
        "Let's compute the runtime as well, averaging over a number of iterations"
      ]
    },
    {
      "cell_type": "code",
      "execution_count": 15,
      "id": "811e2297",
      "metadata": {
        "id": "811e2297",
        "outputId": "3d626f28-e461-4565-b3c5-f458293e8362",
        "colab": {
          "base_uri": "https://localhost:8080/"
        }
      },
      "outputs": [
        {
          "output_type": "stream",
          "name": "stdout",
          "text": [
            "\n",
            "Mean runtime for value function iteration = 0.1706 seconds\n",
            "\n"
          ]
        }
      ],
      "source": [
        "runtimes = []\n",
        "for _ in range(10):\n",
        "    start = time.time()\n",
        "    v_star, σ_star = vfi(model, verbose=False)\n",
        "    end = time.time()\n",
        "    runtimes.append(end - start)\n",
        "\n",
        "print()\n",
        "mean_runtime = jnp.mean(jnp.array(runtimes))\n",
        "print(f\"Mean runtime for value function iteration = {mean_runtime:.4f} seconds\")\n",
        "print()"
      ]
    },
    {
      "cell_type": "markdown",
      "id": "bd07fcd7",
      "metadata": {
        "id": "bd07fcd7"
      },
      "source": [
        "We compute the reservation wage as the first $w$ such that $\\sigma(w)=1$."
      ]
    },
    {
      "cell_type": "code",
      "execution_count": 16,
      "id": "ed7994e9",
      "metadata": {
        "id": "ed7994e9",
        "outputId": "ce3441cf-e30b-4dc1-868d-63b6c9f7113d",
        "colab": {
          "base_uri": "https://localhost:8080/"
        }
      },
      "outputs": [
        {
          "output_type": "execute_result",
          "data": {
            "text/plain": [
              "(Array([385, 386, 387, 388, 389, 390, 391, 392, 393, 394, 395, 396, 397,\n",
              "        398, 399, 400, 401, 402, 403, 404, 405, 406, 407, 408, 409, 410,\n",
              "        411, 412, 413, 414, 415, 416, 417, 418, 419, 420, 421, 422, 423,\n",
              "        424, 425, 426, 427, 428, 429, 430, 431, 432, 433, 434, 435, 436,\n",
              "        437, 438, 439, 440, 441, 442, 443, 444, 445, 446, 447, 448, 449,\n",
              "        450, 451, 452, 453, 454, 455, 456, 457, 458, 459, 460, 461, 462,\n",
              "        463, 464, 465, 466, 467, 468, 469, 470, 471, 472, 473, 474, 475,\n",
              "        476, 477, 478, 479, 480, 481, 482, 483, 484, 485, 486, 487, 488,\n",
              "        489, 490, 491, 492, 493, 494, 495, 496, 497, 498, 499],      dtype=int32),)"
            ]
          },
          "metadata": {},
          "execution_count": 16
        }
      ],
      "source": [
        "stop_indices = jnp.where(σ_star == 1)\n",
        "stop_indices"
      ]
    },
    {
      "cell_type": "code",
      "execution_count": 17,
      "id": "4944314c",
      "metadata": {
        "id": "4944314c"
      },
      "outputs": [],
      "source": [
        "res_wage_index = min(stop_indices[0])"
      ]
    },
    {
      "cell_type": "code",
      "execution_count": 18,
      "id": "12947974",
      "metadata": {
        "id": "12947974"
      },
      "outputs": [],
      "source": [
        "res_wage = w_vals[res_wage_index]"
      ]
    },
    {
      "cell_type": "markdown",
      "id": "d70cfa99",
      "metadata": {
        "id": "d70cfa99"
      },
      "source": [
        "Here's a joint plot of the value function and the reservation wage."
      ]
    },
    {
      "cell_type": "code",
      "execution_count": 19,
      "id": "40ba634a",
      "metadata": {
        "id": "40ba634a",
        "outputId": "fd3bbee4-5108-456c-9870-3ce58e3adc82",
        "colab": {
          "base_uri": "https://localhost:8080/",
          "height": 453
        }
      },
      "outputs": [
        {
          "output_type": "display_data",
          "data": {
            "text/plain": [
              "<Figure size 640x480 with 1 Axes>"
            ],
            "image/png": "[encoded data removed]"
          },
          "metadata": {}
        }
      ],
      "source": [
        "fig, ax = plt.subplots()\n",
        "ax.plot(w_vals, v_star, alpha=0.8, label=\"value function\")\n",
        "ax.vlines((res_wage,), 150, 400, 'k', ls='--', label=\"reservation wage\")\n",
        "ax.legend(frameon=False, fontsize=12, loc=\"lower right\")\n",
        "ax.set_xlabel(\"$w$\", fontsize=12)\n",
        "plt.show()"
      ]
    },
    {
      "cell_type": "markdown",
      "id": "28a7dc7a",
      "metadata": {
        "id": "28a7dc7a"
      },
      "source": [
        "## Exercise 1\n",
        "\n",
        "In the setting above, the agent is risk-neutral vis-a-vis future utility risk.\n",
        "\n",
        "Now solve the same problem but this time assuming that the agent has risk-sensitive\n",
        "preferences, which are a type of nonlinear recursive preferences.\n",
        "\n",
        "The Bellman equation becomes\n",
        "\n",
        "$$\n",
        "    v(w) = \\max\n",
        "    \\left\\{\n",
        "            \\frac{w}{1-\\beta},\n",
        "            c + \\frac{\\beta}{\\theta}\n",
        "            \\ln \\left[\n",
        "                      \\sum_{w'} \\exp(\\theta v(w')) P(w, w')\n",
        "                \\right]\n",
        "    \\right\\}\n",
        "$$\n",
        "\n",
        "\n",
        "When $\\theta < 0$ the agent is risk averse.\n",
        "\n",
        "Solve the model when $\\theta = -0.1$ and compare your result to the risk neutral\n",
        "case.\n",
        "\n",
        "Try to interpret your result.\n",
        "\n",
        "You can start with the following code:"
      ]
    },
    {
      "cell_type": "code",
      "execution_count": 20,
      "id": "aa02bd79",
      "metadata": {
        "id": "aa02bd79"
      },
      "outputs": [],
      "source": [
        "class RiskModel(NamedTuple):\n",
        "    n: int\n",
        "    w_vals: jnp.ndarray\n",
        "    P: jnp.ndarray\n",
        "    β: float\n",
        "    c: float\n",
        "    θ: float\n",
        "\n",
        "def create_risk_sensitive_js_model(\n",
        "        n: int = 500,       # wage grid size\n",
        "        ρ: float = 0.9,     # wage persistence\n",
        "        ν: float = 0.2,     # wage volatility\n",
        "        β: float = 0.99,    # discount factor\n",
        "        c: float = 1.0,     # unemployment compensation\n",
        "        θ: float = -0.1     # risk parameter\n",
        "    ) -> RiskModel:\n",
        "    \"Creates an instance of the job search model with Markov wages.\"\n",
        "    mc = qe.tauchen(n, ρ, ν)\n",
        "    w_vals, P = jnp.exp(mc.state_values), jnp.array(mc.P)\n",
        "    return RiskModel(n, w_vals, P, β, c, θ)"
      ]
    },
    {
      "cell_type": "markdown",
      "id": "a153874a",
      "metadata": {
        "id": "a153874a"
      },
      "source": [
        "Now you need to modify `T` and `get_greedy` and then run value function iteration again."
      ]
    },
    {
      "cell_type": "code",
      "execution_count": 21,
      "id": "1b064439",
      "metadata": {
        "id": "1b064439"
      },
      "outputs": [],
      "source": [
        "# Put your code here"
      ]
    },
    {
      "cell_type": "code",
      "execution_count": 22,
      "id": "69b6b45b",
      "metadata": {
        "id": "69b6b45b",
        "outputId": "ea78a746-f383-411d-c02f-2de6eae44948",
        "colab": {
          "base_uri": "https://localhost:8080/"
        }
      },
      "outputs": [
        {
          "output_type": "stream",
          "name": "stdout",
          "text": [
            "Solution below!\n",
            "Solution below!\n",
            "Solution below!\n",
            "Solution below!\n",
            "Solution below!\n",
            "Solution below!\n",
            "Solution below!\n",
            "Solution below!\n",
            "Solution below!\n",
            "Solution below!\n",
            "Solution below!\n",
            "Solution below!\n",
            "Solution below!\n",
            "Solution below!\n",
            "Solution below!\n",
            "Solution below!\n",
            "Solution below!\n",
            "Solution below!\n",
            "Solution below!\n",
            "Solution below!\n"
          ]
        }
      ],
      "source": [
        "for _ in range(20):\n",
        "    print(\"Solution below!\")"
      ]
    },
    {
      "cell_type": "code",
      "execution_count": 23,
      "id": "56d0bef0",
      "metadata": {
        "id": "56d0bef0"
      },
      "outputs": [],
      "source": [
        "@jax.jit\n",
        "def T_rs(v: jnp.ndarray, model: RiskModel) -> jnp.ndarray:\n",
        "    \"\"\"\n",
        "    The Bellman operator Tv = max{e, c + β R v} with\n",
        "\n",
        "        e(w) = w / (1-β) and\n",
        "\n",
        "        (Rv)(w) = (1/θ) ln{E_w[ exp(θ v(W'))]}\n",
        "\n",
        "    \"\"\"\n",
        "    n, w_vals, P, β, c, θ = model\n",
        "    h = c + (β / θ) * jnp.log(P @ (jnp.exp(θ * v)))\n",
        "    e = w_vals / (1 - β)\n",
        "\n",
        "    return jnp.maximum(e, h)\n",
        "\n",
        "\n",
        "@jax.jit\n",
        "def get_greedy_rs(v: jnp.ndarray, model: RiskModel) -> jnp.ndarray:\n",
        "    \" Get a v-greedy policy.\"\n",
        "    n, w_vals, P, β, c, θ = model\n",
        "    e = w_vals / (1 - β)\n",
        "    h = c + (β / θ) * jnp.log(P @ (jnp.exp(θ * v)))\n",
        "    σ = jnp.where(e >= h, 1, 0)\n",
        "    return σ\n",
        "\n",
        "\n",
        "def vfi_rs(\n",
        "        model: RiskModel,\n",
        "        max_iter: int = 10_000,\n",
        "        tol: float = 1e-4\n",
        "    ):\n",
        "    \"Solve the infinite-horizon Markov job search model by VFI.\"\n",
        "    v = jnp.zeros_like(model.w_vals)\n",
        "\n",
        "    for i in range(max_iter):\n",
        "        new_v = T_rs(v, model)\n",
        "        error = jnp.max(jnp.abs(new_v - v))\n",
        "        if error < tol:\n",
        "            print(f\"VFI converged after {i+1} iterations (error: {error:.2e})\")\n",
        "            break\n",
        "        v = new_v\n",
        "    else:\n",
        "        print(f\"VFI reached max iterations ({max_iter}) with error {error:.2e}\")\n",
        "\n",
        "    return new_v, get_greedy_rs(new_v, model)"
      ]
    },
    {
      "cell_type": "code",
      "execution_count": 24,
      "id": "003f82bb",
      "metadata": {
        "id": "003f82bb",
        "outputId": "dcf4de00-f4ba-44fa-8fb9-f8712fdc03f8",
        "colab": {
          "base_uri": "https://localhost:8080/"
        }
      },
      "outputs": [
        {
          "output_type": "stream",
          "name": "stdout",
          "text": [
            "VFI converged after 577 iterations (error: 9.16e-05)\n"
          ]
        }
      ],
      "source": [
        "model_rs = create_risk_sensitive_js_model()\n",
        "n, w_vals, P, β, c, θ = model_rs\n",
        "v_star_rs, σ_star_rs = vfi_rs(model_rs)"
      ]
    },
    {
      "cell_type": "markdown",
      "id": "c0df4210",
      "metadata": {
        "id": "c0df4210"
      },
      "source": [
        "Let's plot the results together with the original risk neutral case and see what we get."
      ]
    },
    {
      "cell_type": "code",
      "execution_count": 25,
      "id": "7830fd93",
      "metadata": {
        "id": "7830fd93"
      },
      "outputs": [],
      "source": [
        "stop_indices = jnp.where(σ_star_rs == 1)\n",
        "res_wage_index = min(stop_indices[0])\n",
        "res_wage_rs = w_vals[res_wage_index]"
      ]
    },
    {
      "cell_type": "code",
      "execution_count": 26,
      "id": "2d708753",
      "metadata": {
        "id": "2d708753",
        "outputId": "da80d4fc-2491-46d3-c27e-348786620d99",
        "colab": {
          "base_uri": "https://localhost:8080/",
          "height": 453
        }
      },
      "outputs": [
        {
          "output_type": "display_data",
          "data": {
            "text/plain": [
              "<Figure size 640x480 with 1 Axes>"
            ],
            "image/png": "[encoded data removed]"
          },
          "metadata": {}
        }
      ],
      "source": [
        "fig, ax = plt.subplots()\n",
        "ax.plot(w_vals, v_star,  ls='-', color='blue',\n",
        "        alpha=0.8, label=\"risk neutral $v$\")\n",
        "ax.plot(w_vals, v_star_rs, ls='-', color='orange',\n",
        "        alpha=0.8, label=\"risk sensitive $v$\")\n",
        "ax.vlines((res_wage,), 100, 400,  ls='--', color='blue',\n",
        "          alpha=0.5, label=r\"risk neutral $\\bar w$\")\n",
        "ax.vlines((res_wage_rs,), 100, 400, ls='--', color='orange',\n",
        "          alpha=0.5, label=r\"risk sensitive $\\bar w$\")\n",
        "ax.legend(frameon=False, fontsize=12, loc=\"lower right\")\n",
        "ax.set_xlabel(\"$w$\", fontsize=12)\n",
        "plt.show()"
      ]
    },
    {
      "cell_type": "markdown",
      "id": "9a5a4f50",
      "metadata": {
        "id": "9a5a4f50"
      },
      "source": [
        "The figure shows that the reservation wage under risk sensitive preferences (RS $\\bar w$) shifts down.\n",
        "\n",
        "This makes sense -- the agent does not like risk and hence is more inclined to\n",
        "accept the current offer, even when it's lower."
      ]
    },
    {
      "cell_type": "markdown",
      "id": "2e4ae0b5",
      "metadata": {
        "id": "2e4ae0b5"
      },
      "source": [
        "## Exercise 2\n",
        "\n",
        "In the code above, we wrote two versions of VFI, one for each model.\n",
        "\n",
        "This is poor style because we are repeating logic.  \n",
        "\n",
        "Write one version of VFI that can work with both and test that it does the\n",
        "same job."
      ]
    },
    {
      "cell_type": "code",
      "execution_count": 27,
      "id": "9c6eea68",
      "metadata": {
        "id": "9c6eea68"
      },
      "outputs": [],
      "source": [
        "# Put your code here"
      ]
    },
    {
      "cell_type": "code",
      "execution_count": 28,
      "id": "0433a95d",
      "metadata": {
        "id": "0433a95d",
        "outputId": "34f0e819-5743-48d7-a5ce-703d766d1487",
        "colab": {
          "base_uri": "https://localhost:8080/"
        }
      },
      "outputs": [
        {
          "output_type": "stream",
          "name": "stdout",
          "text": [
            "Solution below!\n",
            "Solution below!\n",
            "Solution below!\n",
            "Solution below!\n",
            "Solution below!\n",
            "Solution below!\n",
            "Solution below!\n",
            "Solution below!\n",
            "Solution below!\n",
            "Solution below!\n",
            "Solution below!\n",
            "Solution below!\n",
            "Solution below!\n",
            "Solution below!\n",
            "Solution below!\n",
            "Solution below!\n",
            "Solution below!\n",
            "Solution below!\n",
            "Solution below!\n",
            "Solution below!\n"
          ]
        }
      ],
      "source": [
        "for _ in range(20):\n",
        "    print(\"Solution below!\")"
      ]
    },
    {
      "cell_type": "code",
      "execution_count": 29,
      "id": "c74b1436",
      "metadata": {
        "id": "c74b1436"
      },
      "outputs": [],
      "source": [
        "def generic_vfi(\n",
        "        bellman_operator: Callable,\n",
        "        get_greedy_function: Callable,\n",
        "        v_zero: jnp.ndarray,\n",
        "        max_iter: int = 10_000,\n",
        "        tol: float = 1e-4\n",
        "    ):\n",
        "    \"\"\"\n",
        "    Solve the infinite-horizon Markov job search model by VFI.\n",
        "\n",
        "    \"\"\"\n",
        "    v = v_zero\n",
        "\n",
        "    for i in range(max_iter):\n",
        "        new_v = bellman_operator(v)\n",
        "        error = jnp.max(jnp.abs(new_v - v))\n",
        "        if error < tol:\n",
        "            print(f\"VFI converged after {i+1} iterations (error: {error:.2e})\")\n",
        "            break\n",
        "        v = new_v\n",
        "    else:\n",
        "        print(f\"VFI reached max iterations ({max_iter}) with error {error:.2e}\")\n",
        "\n",
        "    return new_v, get_greedy_function(new_v)"
      ]
    },
    {
      "cell_type": "markdown",
      "id": "bbdc8697",
      "metadata": {
        "id": "bbdc8697"
      },
      "source": [
        "## JIT-compiled VFI with lax.while_loop\n",
        "\n",
        "This version uses JAX's `lax.while_loop` for maximum performance with early termination."
      ]
    },
    {
      "cell_type": "code",
      "execution_count": 30,
      "id": "f50a1840",
      "metadata": {
        "id": "f50a1840"
      },
      "outputs": [],
      "source": [
        "@partial(jax.jit, static_argnums=(0, 1))\n",
        "def compiled_generic_vfi(\n",
        "        bellman_operator: Callable,\n",
        "        get_greedy_function: Callable,\n",
        "        v_zero: jnp.ndarray,\n",
        "        max_iter: int = 10_000,\n",
        "        tol: float = 1e-4\n",
        "    ):\n",
        "    \"\"\"\n",
        "    Solve the infinite-horizon Markov job search model by VFI.\n",
        "\n",
        "    \"\"\"\n",
        "    v = v_zero\n",
        "    i = 0\n",
        "    error = tol + 1\n",
        "    initial_loop_state = i, error, v\n",
        "\n",
        "    def condition(loop_state):\n",
        "        i, error, v = loop_state\n",
        "        return jnp.logical_and(error > tol, i < max_iter)\n",
        "\n",
        "    def update(loop_state):\n",
        "        i, error, v = loop_state\n",
        "        new_i = i + 1\n",
        "        new_v = bellman_operator(v)\n",
        "        new_error = jnp.max(jnp.abs(new_v - v))\n",
        "        return new_i, new_error, new_v\n",
        "\n",
        "    final_loop_state = jax.lax.while_loop(condition, update, initial_loop_state)\n",
        "    i, error, v = final_loop_state\n",
        "    return v, get_greedy_function(v)"
      ]
    },
    {
      "cell_type": "markdown",
      "id": "ec28f16f",
      "metadata": {
        "id": "ec28f16f"
      },
      "source": [
        "Let's compare speed."
      ]
    },
    {
      "cell_type": "code",
      "execution_count": 32,
      "id": "e38bb213",
      "metadata": {
        "id": "e38bb213",
        "outputId": "d7d038fb-1101-4416-951a-09d858d3584c",
        "colab": {
          "base_uri": "https://localhost:8080/"
        }
      },
      "outputs": [
        {
          "output_type": "stream",
          "name": "stdout",
          "text": [
            "VFI converged after 442 iterations (error: 9.16e-05)\n",
            "Non-compiled generic VFI time: 0.1731 seconds\n",
            "Compiled generic VFI time: 0.0205 seconds\n",
            "Speedup vs non-compiled: 8.44x\n"
          ]
        }
      ],
      "source": [
        "model = create_js_model()\n",
        "n, w_vals, P, β, c = model\n",
        "v_star_0, σ_star_0 = vfi(model)\n",
        "bellman_operator = lambda v: T(v, model)\n",
        "get_greedy_function = lambda v: get_greedy(v, model)\n",
        "v_zero = jnp.zeros_like(w_vals)\n",
        "\n",
        "# Time the non-compiled version\n",
        "start_time = time.time()\n",
        "v_star, σ_star = generic_vfi(\n",
        "    bellman_operator, get_greedy_function, v_zero\n",
        ")\n",
        "jax.block_until_ready(v_star)  # Wait for computation to complete\n",
        "non_compiled_time = time.time() - start_time\n",
        "print(f\"Non-compiled generic VFI time: {non_compiled_time:.4f} seconds\")\n",
        "\n",
        "# Run the compiled version -- warm up to eliminate compile time\n",
        "v_star_compiled, σ_star_compiled = compiled_generic_vfi(\n",
        "    bellman_operator, get_greedy_function, v_zero\n",
        ")\n",
        "\n",
        "# Time the compiled version (now pre-compiled)\n",
        "start_time = time.time()\n",
        "v_star_compiled, σ_star_compiled = compiled_generic_vfi(\n",
        "    bellman_operator, get_greedy_function, v_zero\n",
        ")\n",
        "jax.block_until_ready(v_star_compiled)  # Wait for computation to complete\n",
        "compiled_time = time.time() - start_time\n",
        "print(f\"Compiled generic VFI time: {compiled_time:.4f} seconds\")\n",
        "\n",
        "print(f\"Speedup vs non-compiled: {non_compiled_time / compiled_time:.2f}x\")"
      ]
    },
    {
      "cell_type": "code",
      "execution_count": null,
      "id": "6af0b1ff",
      "metadata": {
        "id": "6af0b1ff"
      },
      "outputs": [],
      "source": []
    },
    {
      "cell_type": "code",
      "execution_count": null,
      "id": "2f9dc97c",
      "metadata": {
        "id": "2f9dc97c"
      },
      "outputs": [],
      "source": []
    }
  ],
  "metadata": {
    "jupytext": {
      "default_lexer": "ipython3"
    },
    "kernelspec": {
      "display_name": "Python 3 (ipykernel)",
      "language": "python",
      "name": "python3"
    },
    "colab": {
      "provenance": []
    }
  },
  "nbformat": 4,
  "nbformat_minor": 5
}